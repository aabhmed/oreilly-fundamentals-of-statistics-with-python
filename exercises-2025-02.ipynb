{
 "cells": [
  {
   "cell_type": "markdown",
   "id": "ae077321-d6b6-43dc-a9ff-9c5f7e85a6fa",
   "metadata": {},
   "source": [
    "# Walkthroughs and Exercises for *Fundamentals of Statistics with Python*\n",
    "\n",
    "Dr. Chester Ismay"
   ]
  },
  {
   "cell_type": "code",
   "execution_count": null,
   "id": "65c4c165-5e41-498b-974e-5c546864d4c8",
   "metadata": {},
   "outputs": [],
   "source": [
    "# Install the packages directly if needed with pip\n",
    "# Check the repo's README below for more information\n",
    "!pip install numpy pandas scipy matplotlib seaborn statsmodels scikit-learn jupyter"
   ]
  },
  {
   "cell_type": "code",
   "execution_count": 3,
   "id": "93144049-d087-4120-992b-f7e0df9a04f6",
   "metadata": {},
   "outputs": [],
   "source": [
    "import pandas as pd\n",
    "\n",
    "# Display all columns\n",
    "pd.set_option('display.max_columns', None)\n",
    "\n",
    "# Display all outputs from each cell\n",
    "from IPython.core.interactiveshell import InteractiveShell\n",
    "InteractiveShell.ast_node_interactivity = \"all\""
   ]
  },
  {
   "cell_type": "markdown",
   "id": "474451ad-5413-4299-8531-9a87dba6bc08",
   "metadata": {},
   "source": [
    "# Week 1\n",
    "\n",
    "## Walkthrough 1.1: Getting Started\n",
    "\n",
    "### Setting Up the Python Environment\n",
    "\n",
    "If you haven’t already installed Python, Jupyter, and the necessary\n",
    "packages, there are instructions on the course repo in the README to do\n",
    "so\n",
    "[here](https://github.com/ismayc/oreilly-fundamentals-of-statistics-with-python/blob/main/README.md).\n",
    "\n",
    "If you aren’t able to do this on your machine, you may want to check out\n",
    "[Google Colab](https://colab.research.google.com/). It’s a free service\n",
    "that allows you to run Jupyter notebooks in the cloud. Alternatively,\n",
    "I’ve set up some temporary notebooks on Binder\n",
    "[here](https://mybinder.org/v2/gh/ismayc/oreilly-fundamentals-of-statistics-with-python/main?urlpath=%2Fdoc%2Ftree%2Fexercises.ipynb)\n",
    "that you can work with online as well."
   ]
  },
  {
   "cell_type": "code",
   "execution_count": 4,
   "id": "9259009a-23d7-407d-b1ad-efea6808a31e",
   "metadata": {},
   "outputs": [],
   "source": [
    "# Importing libraries/modules and aliasing them as needed\n",
    "import numpy as np\n",
    "import pandas as pd\n",
    "import scipy.stats as stats\n",
    "import matplotlib.pyplot as plt\n",
    "import seaborn as sns\n",
    "import statsmodels.api as sm\n",
    "from sklearn.preprocessing import MinMaxScaler, StandardScaler"
   ]
  },
  {
   "cell_type": "markdown",
   "id": "bf5136ef-c673-416c-9e95-ce1f3540ba66",
   "metadata": {},
   "source": [
    "### Exploring a dataset"
   ]
  },
  {
   "cell_type": "code",
   "execution_count": 5,
   "id": "aa3fb03d-4d86-4171-844c-05a109fe4d8c",
   "metadata": {},
   "outputs": [],
   "source": [
    "# Load in the dataset\n",
    "data_dev_survey = pd.read_csv(\"data_dev_survey.csv\")"
   ]
  },
  {
   "cell_type": "code",
   "execution_count": 6,
   "id": "f7275e85-ee6e-445d-8d06-f41144455086",
   "metadata": {},
   "outputs": [
    {
     "name": "stdout",
     "output_type": "stream",
     "text": [
      "<class 'pandas.core.frame.DataFrame'>\n",
      "RangeIndex: 1183 entries, 0 to 1182\n",
      "Data columns (total 24 columns):\n",
      " #   Column                      Non-Null Count  Dtype  \n",
      "---  ------                      --------------  -----  \n",
      " 0   response_id                 1183 non-null   int64  \n",
      " 1   work_as_dev                 1183 non-null   object \n",
      " 2   age                         1183 non-null   object \n",
      " 3   employment                  1183 non-null   object \n",
      " 4   remote_work                 1183 non-null   object \n",
      " 5   coding_activities           1182 non-null   object \n",
      " 6   ed_level                    1183 non-null   object \n",
      " 7   dev_type                    1183 non-null   object \n",
      " 8   years_code                  1182 non-null   float64\n",
      " 9   years_code_pro              1183 non-null   int64  \n",
      " 10  org_size                    1183 non-null   object \n",
      " 11  country                     1183 non-null   object \n",
      " 12  language_have_worked_with   1183 non-null   object \n",
      " 13  language_want_to_work_with  1116 non-null   object \n",
      " 14  op_sys_professional_use     1110 non-null   object \n",
      " 15  ai_view                     1183 non-null   object \n",
      " 16  ai_trust                    1183 non-null   object \n",
      " 17  ic_or_manager               1183 non-null   object \n",
      " 18  work_exp                    1183 non-null   int64  \n",
      " 19  industry                    949 non-null    object \n",
      " 20  us_or_not                   1183 non-null   object \n",
      " 21  plans_to_use_ai             1183 non-null   object \n",
      " 22  converted_comp_yearly       1183 non-null   int64  \n",
      " 23  survey_completion_date      1183 non-null   object \n",
      "dtypes: float64(1), int64(4), object(19)\n",
      "memory usage: 221.9+ KB\n"
     ]
    }
   ],
   "source": [
    "# Display information about the DataFrame\n",
    "data_dev_survey.info()"
   ]
  },
  {
   "cell_type": "markdown",
   "id": "c3cef72a-227c-4e1a-91c2-ccb6796bfdaf",
   "metadata": {},
   "source": [
    "### Performing basic statistical functions using NumPy, Pandas, and SciPy.\n",
    "\n",
    "#### Using NumPy"
   ]
  },
  {
   "cell_type": "code",
   "execution_count": 7,
   "id": "d0266b10-b8be-4884-b7b2-e9e9bdbf2093",
   "metadata": {},
   "outputs": [
    {
     "data": {
      "text/plain": [
       "np.float64(7.961115807269653)"
      ]
     },
     "execution_count": 7,
     "metadata": {},
     "output_type": "execute_result"
    }
   ],
   "source": [
    "# Calculate the mean of the years_code_pro column\n",
    "np.mean(data_dev_survey['years_code_pro'])"
   ]
  },
  {
   "cell_type": "code",
   "execution_count": 8,
   "id": "40ea22d3-26e8-4b6c-a39c-c9db017e76bb",
   "metadata": {},
   "outputs": [
    {
     "data": {
      "text/plain": [
       "np.float64(7.0)"
      ]
     },
     "execution_count": 8,
     "metadata": {},
     "output_type": "execute_result"
    }
   ],
   "source": [
    "# Calculate the median of the work_exp column\n",
    "np.median(data_dev_survey['work_exp'])"
   ]
  },
  {
   "cell_type": "code",
   "execution_count": 9,
   "id": "24156431-b8d2-47b2-b3cd-9f25861ec9c9",
   "metadata": {},
   "outputs": [
    {
     "data": {
      "text/plain": [
       "np.float64(81861.24268446874)"
      ]
     },
     "execution_count": 9,
     "metadata": {},
     "output_type": "execute_result"
    }
   ],
   "source": [
    "# Calculate the standard deviation of the converted_comp_yearly column\n",
    "np.std(data_dev_survey['converted_comp_yearly'])"
   ]
  },
  {
   "cell_type": "markdown",
   "id": "62755050-f03f-4087-af83-eb0b6e4d530d",
   "metadata": {},
   "source": [
    "#### Using Pandas"
   ]
  },
  {
   "cell_type": "code",
   "execution_count": 10,
   "id": "952f784b-158e-415e-a9fd-fa8c42d69f94",
   "metadata": {},
   "outputs": [
    {
     "data": {
      "text/html": [
       "<div>\n",
       "<style scoped>\n",
       "    .dataframe tbody tr th:only-of-type {\n",
       "        vertical-align: middle;\n",
       "    }\n",
       "\n",
       "    .dataframe tbody tr th {\n",
       "        vertical-align: top;\n",
       "    }\n",
       "\n",
       "    .dataframe thead th {\n",
       "        text-align: right;\n",
       "    }\n",
       "</style>\n",
       "<table border=\"1\" class=\"dataframe\">\n",
       "  <thead>\n",
       "    <tr style=\"text-align: right;\">\n",
       "      <th></th>\n",
       "      <th>response_id</th>\n",
       "      <th>years_code</th>\n",
       "      <th>years_code_pro</th>\n",
       "      <th>work_exp</th>\n",
       "      <th>converted_comp_yearly</th>\n",
       "    </tr>\n",
       "  </thead>\n",
       "  <tbody>\n",
       "    <tr>\n",
       "      <th>count</th>\n",
       "      <td>1183.000000</td>\n",
       "      <td>1182.000000</td>\n",
       "      <td>1183.000000</td>\n",
       "      <td>1183.000000</td>\n",
       "      <td>1.183000e+03</td>\n",
       "    </tr>\n",
       "    <tr>\n",
       "      <th>mean</th>\n",
       "      <td>43949.774303</td>\n",
       "      <td>12.534687</td>\n",
       "      <td>7.961116</td>\n",
       "      <td>9.650042</td>\n",
       "      <td>9.068442e+04</td>\n",
       "    </tr>\n",
       "    <tr>\n",
       "      <th>std</th>\n",
       "      <td>25327.979423</td>\n",
       "      <td>8.384094</td>\n",
       "      <td>7.153751</td>\n",
       "      <td>8.189750</td>\n",
       "      <td>8.189586e+04</td>\n",
       "    </tr>\n",
       "    <tr>\n",
       "      <th>min</th>\n",
       "      <td>164.000000</td>\n",
       "      <td>1.000000</td>\n",
       "      <td>0.000000</td>\n",
       "      <td>0.000000</td>\n",
       "      <td>3.000000e+00</td>\n",
       "    </tr>\n",
       "    <tr>\n",
       "      <th>25%</th>\n",
       "      <td>22733.000000</td>\n",
       "      <td>7.000000</td>\n",
       "      <td>3.000000</td>\n",
       "      <td>4.000000</td>\n",
       "      <td>4.159300e+04</td>\n",
       "    </tr>\n",
       "    <tr>\n",
       "      <th>50%</th>\n",
       "      <td>43305.000000</td>\n",
       "      <td>10.000000</td>\n",
       "      <td>6.000000</td>\n",
       "      <td>7.000000</td>\n",
       "      <td>7.271400e+04</td>\n",
       "    </tr>\n",
       "    <tr>\n",
       "      <th>75%</th>\n",
       "      <td>65791.000000</td>\n",
       "      <td>16.000000</td>\n",
       "      <td>10.000000</td>\n",
       "      <td>13.000000</td>\n",
       "      <td>1.200000e+05</td>\n",
       "    </tr>\n",
       "    <tr>\n",
       "      <th>max</th>\n",
       "      <td>89072.000000</td>\n",
       "      <td>50.000000</td>\n",
       "      <td>50.000000</td>\n",
       "      <td>48.000000</td>\n",
       "      <td>1.200000e+06</td>\n",
       "    </tr>\n",
       "  </tbody>\n",
       "</table>\n",
       "</div>"
      ],
      "text/plain": [
       "        response_id   years_code  years_code_pro     work_exp  \\\n",
       "count   1183.000000  1182.000000     1183.000000  1183.000000   \n",
       "mean   43949.774303    12.534687        7.961116     9.650042   \n",
       "std    25327.979423     8.384094        7.153751     8.189750   \n",
       "min      164.000000     1.000000        0.000000     0.000000   \n",
       "25%    22733.000000     7.000000        3.000000     4.000000   \n",
       "50%    43305.000000    10.000000        6.000000     7.000000   \n",
       "75%    65791.000000    16.000000       10.000000    13.000000   \n",
       "max    89072.000000    50.000000       50.000000    48.000000   \n",
       "\n",
       "       converted_comp_yearly  \n",
       "count           1.183000e+03  \n",
       "mean            9.068442e+04  \n",
       "std             8.189586e+04  \n",
       "min             3.000000e+00  \n",
       "25%             4.159300e+04  \n",
       "50%             7.271400e+04  \n",
       "75%             1.200000e+05  \n",
       "max             1.200000e+06  "
      ]
     },
     "execution_count": 10,
     "metadata": {},
     "output_type": "execute_result"
    }
   ],
   "source": [
    "# Display summary statistics on the numeric columns of the DataFrame\n",
    "data_dev_survey.describe()"
   ]
  },
  {
   "cell_type": "markdown",
   "id": "b007abcf-63c5-4f95-96ca-5468cc8981de",
   "metadata": {},
   "source": [
    "#### Using SciPy"
   ]
  },
  {
   "cell_type": "code",
   "execution_count": 11,
   "id": "3adb3642-71ab-44fb-8fea-671aed5516d6",
   "metadata": {},
   "outputs": [
    {
     "data": {
      "text/plain": [
       "np.float64(0.9293366153676751)"
      ]
     },
     "execution_count": 11,
     "metadata": {},
     "output_type": "execute_result"
    },
    {
     "data": {
      "text/plain": [
       "np.float64(0.3529304815725288)"
      ]
     },
     "execution_count": 11,
     "metadata": {},
     "output_type": "execute_result"
    }
   ],
   "source": [
    "# Separate the data into two groups\n",
    "using_ai = data_dev_survey\\\n",
    "    [data_dev_survey['plans_to_use_ai'] == 'Using']\\\n",
    "    ['converted_comp_yearly']\n",
    "\n",
    "plan_to_use_ai = data_dev_survey\\\n",
    "    [data_dev_survey['plans_to_use_ai'] == 'Plan to use']\\\n",
    "    ['converted_comp_yearly']\n",
    "\n",
    "# Perform the t-test\n",
    "t_stat, p_value = stats.ttest_ind(using_ai, plan_to_use_ai, equal_var=False)\n",
    "\n",
    "# Print the results\n",
    "t_stat\n",
    "p_value"
   ]
  },
  {
   "cell_type": "markdown",
   "id": "57589dea-4d4b-4809-a340-deb7603470c0",
   "metadata": {},
   "source": [
    "## Exercise 1.1: Getting Started\n",
    "\n",
    "### Setting Up the Python Environment\n",
    "\n",
    "If you ran the `# Importing libraries and aliasing them` code above, you\n",
    "should be good to proceed here. If not, scroll up and run it.\n",
    "\n",
    "### Exploring a dataset"
   ]
  },
  {
   "cell_type": "code",
   "execution_count": null,
   "id": "556a1c62-5d17-411a-8abd-822ed53e4cad",
   "metadata": {},
   "outputs": [],
   "source": [
    "# Load in the coffee_quality dataset"
   ]
  },
  {
   "cell_type": "code",
   "execution_count": null,
   "id": "6a477246-7114-40c3-809c-ceff19fc2164",
   "metadata": {},
   "outputs": [],
   "source": [
    "# Display information about the DataFrame"
   ]
  },
  {
   "cell_type": "markdown",
   "id": "73effc21-d632-49f8-bdaa-49632ab3bfdf",
   "metadata": {},
   "source": [
    "### Performing basic statistical functions using NumPy, Pandas, and SciPy.\n",
    "\n",
    "#### Using NumPy"
   ]
  },
  {
   "cell_type": "code",
   "execution_count": null,
   "id": "15e1e658-1c8f-4663-a735-3cf24e8a943d",
   "metadata": {},
   "outputs": [],
   "source": [
    "# Calculate the mean of the aroma column"
   ]
  },
  {
   "cell_type": "code",
   "execution_count": null,
   "id": "42e5c85d-143f-4d40-9603-5fbed89e39c9",
   "metadata": {},
   "outputs": [],
   "source": [
    "# Calculate the median of the total_cup_points column"
   ]
  },
  {
   "cell_type": "code",
   "execution_count": null,
   "id": "ed9acd0e-b18b-4c32-9607-2817f1a19312",
   "metadata": {},
   "outputs": [],
   "source": [
    "# Calculate the standard deviation of the moisture_percentage column"
   ]
  },
  {
   "cell_type": "markdown",
   "id": "eceb6a8c-cd83-4f4c-bf9f-de1ce6b56c13",
   "metadata": {},
   "source": [
    "#### Using Pandas"
   ]
  },
  {
   "cell_type": "code",
   "execution_count": null,
   "id": "fc45d19e-ad28-4d65-aff8-3784a3ac89a9",
   "metadata": {},
   "outputs": [],
   "source": [
    "# Display summary statistics on the numeric columns of the DataFrame"
   ]
  },
  {
   "cell_type": "markdown",
   "id": "e0f0d551-2834-473c-a40c-e6c3e765ce3f",
   "metadata": {},
   "source": [
    "#### Using SciPy"
   ]
  },
  {
   "cell_type": "code",
   "execution_count": null,
   "id": "48674104-b763-417b-a118-2e3c8cdeba20",
   "metadata": {},
   "outputs": [],
   "source": [
    "# Focus on only Asia and North America entries\n",
    "\n",
    "# Separate the data into two groups\n",
    "\n",
    "\n",
    "# Perform the t-test\n",
    "\n",
    "\n",
    "# Print the results\n"
   ]
  },
  {
   "cell_type": "markdown",
   "id": "db48245e-c706-4729-865a-8e9859b8b5ff",
   "metadata": {},
   "source": [
    "------------------------------------------------------------------------\n",
    "\n",
    "## Walkthrough 1.2: Data Summarizing\n",
    "\n",
    "### Compute and interpret measures of central tendency"
   ]
  },
  {
   "cell_type": "code",
   "execution_count": 13,
   "id": "5db19420-0016-489e-9fa1-4849d85788e4",
   "metadata": {},
   "outputs": [
    {
     "data": {
      "text/plain": [
       "np.float64(7.961115807269653)"
      ]
     },
     "execution_count": 13,
     "metadata": {},
     "output_type": "execute_result"
    },
    {
     "data": {
      "text/plain": [
       "np.float64(6.0)"
      ]
     },
     "execution_count": 13,
     "metadata": {},
     "output_type": "execute_result"
    },
    {
     "data": {
      "text/plain": [
       "0    2\n",
       "Name: years_code_pro, dtype: int64"
      ]
     },
     "execution_count": 13,
     "metadata": {},
     "output_type": "execute_result"
    },
    {
     "data": {
      "text/plain": [
       "np.int64(2)"
      ]
     },
     "execution_count": 13,
     "metadata": {},
     "output_type": "execute_result"
    }
   ],
   "source": [
    "# Calculate center statistics for years_code_pro\n",
    "data_dev_survey['years_code_pro'].mean()\n",
    "data_dev_survey['years_code_pro'].median()\n",
    "data_dev_survey['years_code_pro'].mode()\n",
    "\n",
    "# To extract just the value for mode\n",
    "data_dev_survey['years_code_pro'].mode()[0]"
   ]
  },
  {
   "cell_type": "markdown",
   "id": "f0212c06-c04f-4603-ac6d-e92f29a4888f",
   "metadata": {},
   "source": [
    "### Compute and interpret measures of variation"
   ]
  },
  {
   "cell_type": "code",
   "execution_count": 15,
   "id": "ec6a34ed-ef36-41c1-84ba-5181d5dc1125",
   "metadata": {},
   "outputs": [
    {
     "data": {
      "text/plain": [
       "np.int64(50)"
      ]
     },
     "execution_count": 15,
     "metadata": {},
     "output_type": "execute_result"
    }
   ],
   "source": [
    "# Calculate spread statistics for years_code_pro\n",
    "range_years_code_pro = data_dev_survey['years_code_pro'].max() \\\n",
    "    - data_dev_survey['years_code_pro'].min()\n",
    "range_years_code_pro"
   ]
  },
  {
   "cell_type": "code",
   "execution_count": 16,
   "id": "37766cfc-38bb-480e-88ce-9cc14c72c491",
   "metadata": {},
   "outputs": [
    {
     "data": {
      "text/plain": [
       "np.float64(51.17615171500372)"
      ]
     },
     "execution_count": 16,
     "metadata": {},
     "output_type": "execute_result"
    },
    {
     "data": {
      "text/plain": [
       "np.float64(7.153750884326607)"
      ]
     },
     "execution_count": 16,
     "metadata": {},
     "output_type": "execute_result"
    }
   ],
   "source": [
    "data_dev_survey['years_code_pro'].var(ddof=1) # Sample variance\n",
    "data_dev_survey['years_code_pro'].std(ddof=1) # Sample standard deviation"
   ]
  },
  {
   "cell_type": "code",
   "execution_count": 18,
   "id": "5eef9ffc-5f59-4ecd-8bb6-4f35a8af059d",
   "metadata": {},
   "outputs": [
    {
     "data": {
      "text/plain": [
       "count    1183.000000\n",
       "mean        7.961116\n",
       "std         7.153751\n",
       "min         0.000000\n",
       "25%         3.000000\n",
       "50%         6.000000\n",
       "75%        10.000000\n",
       "max        50.000000\n",
       "Name: years_code_pro, dtype: float64"
      ]
     },
     "execution_count": 18,
     "metadata": {},
     "output_type": "execute_result"
    }
   ],
   "source": [
    "# Calculate the five-number summary for 'years_code_pro'\n",
    "data_dev_survey['years_code_pro'].describe()\n",
    "\n",
    "# Print them out"
   ]
  },
  {
   "cell_type": "markdown",
   "id": "d8bab482-be52-4fee-912d-c30efb33c203",
   "metadata": {},
   "source": [
    "## Exercise 1.2: Data Summarizing"
   ]
  },
  {
   "cell_type": "code",
   "execution_count": null,
   "id": "134fe261-7f50-4d0f-858c-12ad1ea236b9",
   "metadata": {},
   "outputs": [],
   "source": [
    "# Calculate center statistics for 'aroma'"
   ]
  },
  {
   "cell_type": "code",
   "execution_count": null,
   "id": "5478ff50-ca15-4aea-8424-47ca69279b44",
   "metadata": {},
   "outputs": [],
   "source": [
    "# Calculate spread statistics for 'aroma'"
   ]
  },
  {
   "cell_type": "code",
   "execution_count": null,
   "id": "f0468365-5f5e-4d48-8734-a187c3adb4e0",
   "metadata": {},
   "outputs": [],
   "source": [
    "# Calculate the five-number summary for 'aroma'"
   ]
  },
  {
   "cell_type": "markdown",
   "id": "f8de255c-2ad1-4e8f-befd-254527232881",
   "metadata": {},
   "source": [
    "------------------------------------------------------------------------\n",
    "\n",
    "## Walkthrough 1.3: Cleaning and Preparing Data with Pandas"
   ]
  },
  {
   "cell_type": "code",
   "execution_count": 23,
   "id": "ae5d750c-7444-422d-a9ee-f0e3c176626d",
   "metadata": {},
   "outputs": [
    {
     "data": {
      "image/png": "[encoded data removed]",
      "text/plain": [
       "<Figure size 1000x500 with 1 Axes>"
      ]
     },
     "metadata": {},
     "output_type": "display_data"
    }
   ],
   "source": [
    "# Histogram for years_code_pro\n",
    "plt.figure(figsize=(10, 5));\n",
    "sns.histplot(data_dev_survey['years_code_pro']);\n",
    "plt.title('Histogram of Years of Coding Experience');\n",
    "plt.xlabel('Years of Coding Experience');\n",
    "plt.ylabel('Frequency');\n",
    "plt.show();"
   ]
  },
  {
   "cell_type": "code",
   "execution_count": 24,
   "id": "7a984fea-1e9b-4e2a-be89-5adc5ecf592c",
   "metadata": {},
   "outputs": [],
   "source": [
    "# Set the default figure size for all plots\n",
    "plt.rcParams['figure.figsize'] = (10, 5)"
   ]
  },
  {
   "cell_type": "code",
   "execution_count": 26,
   "id": "6ef8095c-0919-4a34-a8d9-0602452a9fde",
   "metadata": {},
   "outputs": [
    {
     "data": {
      "image/png": "[encoded data removed]",
      "text/plain": [
       "<Figure size 1000x500 with 1 Axes>"
      ]
     },
     "metadata": {},
     "output_type": "display_data"
    }
   ],
   "source": [
    "# Box plot for work_exp\n",
    "sns.boxplot(y=data_dev_survey['work_exp']);\n",
    "plt.title('Box Plot of Work Experience');\n",
    "plt.ylabel('Work Experience (years)');\n",
    "plt.show();"
   ]
  },
  {
   "cell_type": "code",
   "execution_count": 29,
   "id": "ef4464cb-aa7a-418e-a25e-2edeb7fea003",
   "metadata": {},
   "outputs": [
    {
     "data": {
      "image/png": "[encoded data removed]",
      "text/plain": [
       "<Figure size 1000x500 with 1 Axes>"
      ]
     },
     "metadata": {},
     "output_type": "display_data"
    }
   ],
   "source": [
    "# Box plot for work_exp (horizontal version)\n",
    "sns.boxplot(x=data_dev_survey['work_exp'])\n",
    "plt.title('Box Plot of Work Experience')\n",
    "plt.xlabel('Work Experience (years)')\n",
    "plt.show();"
   ]
  },
  {
   "cell_type": "code",
   "execution_count": 31,
   "id": "3a2303c7-6e90-4c20-b936-51b4c16d7543",
   "metadata": {},
   "outputs": [
    {
     "data": {
      "image/png": "[encoded data removed]",
      "text/plain": [
       "<Figure size 1000x500 with 1 Axes>"
      ]
     },
     "metadata": {},
     "output_type": "display_data"
    }
   ],
   "source": [
    "# Scatter plot for years_code_pro vs. converted_comp_yearly\n",
    "sns.scatterplot(x=data_dev_survey['years_code_pro'],\n",
    "                y=data_dev_survey['converted_comp_yearly'])\n",
    "plt.show();"
   ]
  },
  {
   "cell_type": "code",
   "execution_count": 30,
   "id": "7467796d-03c5-4814-aeff-4a989dd6b9f6",
   "metadata": {},
   "outputs": [
    {
     "data": {
      "text/plain": [
       "\u001b[0;31mSignature:\u001b[0m\n",
       "\u001b[0msns\u001b[0m\u001b[0;34m.\u001b[0m\u001b[0mscatterplot\u001b[0m\u001b[0;34m(\u001b[0m\u001b[0;34m\u001b[0m\n",
       "\u001b[0;34m\u001b[0m    \u001b[0mdata\u001b[0m\u001b[0;34m=\u001b[0m\u001b[0;32mNone\u001b[0m\u001b[0;34m,\u001b[0m\u001b[0;34m\u001b[0m\n",
       "\u001b[0;34m\u001b[0m    \u001b[0;34m*\u001b[0m\u001b[0;34m,\u001b[0m\u001b[0;34m\u001b[0m\n",
       "\u001b[0;34m\u001b[0m    \u001b[0mx\u001b[0m\u001b[0;34m=\u001b[0m\u001b[0;32mNone\u001b[0m\u001b[0;34m,\u001b[0m\u001b[0;34m\u001b[0m\n",
       "\u001b[0;34m\u001b[0m    \u001b[0my\u001b[0m\u001b[0;34m=\u001b[0m\u001b[0;32mNone\u001b[0m\u001b[0;34m,\u001b[0m\u001b[0;34m\u001b[0m\n",
       "\u001b[0;34m\u001b[0m    \u001b[0mhue\u001b[0m\u001b[0;34m=\u001b[0m\u001b[0;32mNone\u001b[0m\u001b[0;34m,\u001b[0m\u001b[0;34m\u001b[0m\n",
       "\u001b[0;34m\u001b[0m    \u001b[0msize\u001b[0m\u001b[0;34m=\u001b[0m\u001b[0;32mNone\u001b[0m\u001b[0;34m,\u001b[0m\u001b[0;34m\u001b[0m\n",
       "\u001b[0;34m\u001b[0m    \u001b[0mstyle\u001b[0m\u001b[0;34m=\u001b[0m\u001b[0;32mNone\u001b[0m\u001b[0;34m,\u001b[0m\u001b[0;34m\u001b[0m\n",
       "\u001b[0;34m\u001b[0m    \u001b[0mpalette\u001b[0m\u001b[0;34m=\u001b[0m\u001b[0;32mNone\u001b[0m\u001b[0;34m,\u001b[0m\u001b[0;34m\u001b[0m\n",
       "\u001b[0;34m\u001b[0m    \u001b[0mhue_order\u001b[0m\u001b[0;34m=\u001b[0m\u001b[0;32mNone\u001b[0m\u001b[0;34m,\u001b[0m\u001b[0;34m\u001b[0m\n",
       "\u001b[0;34m\u001b[0m    \u001b[0mhue_norm\u001b[0m\u001b[0;34m=\u001b[0m\u001b[0;32mNone\u001b[0m\u001b[0;34m,\u001b[0m\u001b[0;34m\u001b[0m\n",
       "\u001b[0;34m\u001b[0m    \u001b[0msizes\u001b[0m\u001b[0;34m=\u001b[0m\u001b[0;32mNone\u001b[0m\u001b[0;34m,\u001b[0m\u001b[0;34m\u001b[0m\n",
       "\u001b[0;34m\u001b[0m    \u001b[0msize_order\u001b[0m\u001b[0;34m=\u001b[0m\u001b[0;32mNone\u001b[0m\u001b[0;34m,\u001b[0m\u001b[0;34m\u001b[0m\n",
       "\u001b[0;34m\u001b[0m    \u001b[0msize_norm\u001b[0m\u001b[0;34m=\u001b[0m\u001b[0;32mNone\u001b[0m\u001b[0;34m,\u001b[0m\u001b[0;34m\u001b[0m\n",
       "\u001b[0;34m\u001b[0m    \u001b[0mmarkers\u001b[0m\u001b[0;34m=\u001b[0m\u001b[0;32mTrue\u001b[0m\u001b[0;34m,\u001b[0m\u001b[0;34m\u001b[0m\n",
       "\u001b[0;34m\u001b[0m    \u001b[0mstyle_order\u001b[0m\u001b[0;34m=\u001b[0m\u001b[0;32mNone\u001b[0m\u001b[0;34m,\u001b[0m\u001b[0;34m\u001b[0m\n",
       "\u001b[0;34m\u001b[0m    \u001b[0mlegend\u001b[0m\u001b[0;34m=\u001b[0m\u001b[0;34m'auto'\u001b[0m\u001b[0;34m,\u001b[0m\u001b[0;34m\u001b[0m\n",
       "\u001b[0;34m\u001b[0m    \u001b[0max\u001b[0m\u001b[0;34m=\u001b[0m\u001b[0;32mNone\u001b[0m\u001b[0;34m,\u001b[0m\u001b[0;34m\u001b[0m\n",
       "\u001b[0;34m\u001b[0m    \u001b[0;34m**\u001b[0m\u001b[0mkwargs\u001b[0m\u001b[0;34m,\u001b[0m\u001b[0;34m\u001b[0m\n",
       "\u001b[0;34m\u001b[0m\u001b[0;34m)\u001b[0m\u001b[0;34m\u001b[0m\u001b[0;34m\u001b[0m\u001b[0m\n",
       "\u001b[0;31mDocstring:\u001b[0m\n",
       "Draw a scatter plot with possibility of several semantic groupings.\n",
       "\n",
       "The relationship between `x` and `y` can be shown for different subsets\n",
       "of the data using the `hue`, `size`, and `style` parameters. These\n",
       "parameters control what visual semantics are used to identify the different\n",
       "subsets. It is possible to show up to three dimensions independently by\n",
       "using all three semantic types, but this style of plot can be hard to\n",
       "interpret and is often ineffective. Using redundant semantics (i.e. both\n",
       "`hue` and `style` for the same variable) can be helpful for making\n",
       "graphics more accessible.\n",
       "\n",
       "See the :ref:`tutorial <relational_tutorial>` for more information.\n",
       "\n",
       "The default treatment of the `hue` (and to a lesser extent, `size`)\n",
       "semantic, if present, depends on whether the variable is inferred to\n",
       "represent \"numeric\" or \"categorical\" data. In particular, numeric variables\n",
       "are represented with a sequential colormap by default, and the legend\n",
       "entries show regular \"ticks\" with values that may or may not exist in the\n",
       "data. This behavior can be controlled through various parameters, as\n",
       "described and illustrated below.\n",
       "\n",
       "Parameters\n",
       "----------\n",
       "data : :class:`pandas.DataFrame`, :class:`numpy.ndarray`, mapping, or sequence\n",
       "    Input data structure. Either a long-form collection of vectors that can be\n",
       "    assigned to named variables or a wide-form dataset that will be internally\n",
       "    reshaped.\n",
       "x, y : vectors or keys in ``data``\n",
       "    Variables that specify positions on the x and y axes.\n",
       "hue : vector or key in `data`\n",
       "    Grouping variable that will produce points with different colors.\n",
       "    Can be either categorical or numeric, although color mapping will\n",
       "    behave differently in latter case.\n",
       "size : vector or key in `data`\n",
       "    Grouping variable that will produce points with different sizes.\n",
       "    Can be either categorical or numeric, although size mapping will\n",
       "    behave differently in latter case.\n",
       "style : vector or key in `data`\n",
       "    Grouping variable that will produce points with different markers.\n",
       "    Can have a numeric dtype but will always be treated as categorical.\n",
       "palette : string, list, dict, or :class:`matplotlib.colors.Colormap`\n",
       "    Method for choosing the colors to use when mapping the ``hue`` semantic.\n",
       "    String values are passed to :func:`color_palette`. List or dict values\n",
       "    imply categorical mapping, while a colormap object implies numeric mapping.\n",
       "hue_order : vector of strings\n",
       "    Specify the order of processing and plotting for categorical levels of the\n",
       "    ``hue`` semantic.\n",
       "hue_norm : tuple or :class:`matplotlib.colors.Normalize`\n",
       "    Either a pair of values that set the normalization range in data units\n",
       "    or an object that will map from data units into a [0, 1] interval. Usage\n",
       "    implies numeric mapping.\n",
       "sizes : list, dict, or tuple\n",
       "    An object that determines how sizes are chosen when `size` is used.\n",
       "    List or dict arguments should provide a size for each unique data value,\n",
       "    which forces a categorical interpretation. The argument may also be a\n",
       "    min, max tuple.\n",
       "size_order : list\n",
       "    Specified order for appearance of the `size` variable levels,\n",
       "    otherwise they are determined from the data. Not relevant when the\n",
       "    `size` variable is numeric.\n",
       "size_norm : tuple or Normalize object\n",
       "    Normalization in data units for scaling plot objects when the\n",
       "    `size` variable is numeric.\n",
       "markers : boolean, list, or dictionary\n",
       "    Object determining how to draw the markers for different levels of the\n",
       "    `style` variable. Setting to `True` will use default markers, or\n",
       "    you can pass a list of markers or a dictionary mapping levels of the\n",
       "    `style` variable to markers. Setting to `False` will draw\n",
       "    marker-less lines.  Markers are specified as in matplotlib.\n",
       "style_order : list\n",
       "    Specified order for appearance of the `style` variable levels\n",
       "    otherwise they are determined from the data. Not relevant when the\n",
       "    `style` variable is numeric.\n",
       "legend : \"auto\", \"brief\", \"full\", or False\n",
       "    How to draw the legend. If \"brief\", numeric `hue` and `size`\n",
       "    variables will be represented with a sample of evenly spaced values.\n",
       "    If \"full\", every group will get an entry in the legend. If \"auto\",\n",
       "    choose between brief or full representation based on number of levels.\n",
       "    If `False`, no legend data is added and no legend is drawn.\n",
       "ax : :class:`matplotlib.axes.Axes`\n",
       "    Pre-existing axes for the plot. Otherwise, call :func:`matplotlib.pyplot.gca`\n",
       "    internally.\n",
       "kwargs : key, value mappings\n",
       "    Other keyword arguments are passed down to\n",
       "    :meth:`matplotlib.axes.Axes.scatter`.\n",
       "\n",
       "Returns\n",
       "-------\n",
       ":class:`matplotlib.axes.Axes`\n",
       "    The matplotlib axes containing the plot.\n",
       "\n",
       "See Also\n",
       "--------\n",
       "lineplot : Plot data using lines.\n",
       "stripplot : Plot a categorical scatter with jitter.\n",
       "swarmplot : Plot a categorical scatter with non-overlapping points.\n",
       "\n",
       "Examples\n",
       "--------\n",
       "\n",
       ".. include:: ../docstrings/scatterplot.rst\n",
       "\u001b[0;31mFile:\u001b[0m      ~/.virtualenvs/r-reticulate/lib/python3.9/site-packages/seaborn/relational.py\n",
       "\u001b[0;31mType:\u001b[0m      function"
      ]
     },
     "metadata": {},
     "output_type": "display_data"
    }
   ],
   "source": [
    "?sns.scatterplot"
   ]
  },
  {
   "cell_type": "markdown",
   "id": "06447b86-bd21-4437-9249-52d6c6abcba8",
   "metadata": {},
   "source": [
    "## Exercise 1.3: Cleaning and Preparing Data with Pandas"
   ]
  },
  {
   "cell_type": "code",
   "execution_count": null,
   "id": "db5795aa-5ac4-4230-a389-afcc4ac980c0",
   "metadata": {},
   "outputs": [],
   "source": [
    "# Histogram for acidity"
   ]
  },
  {
   "cell_type": "code",
   "execution_count": null,
   "id": "f50c36d4-a892-4a42-a4d6-7dbce17d7a77",
   "metadata": {},
   "outputs": [],
   "source": [
    "# Box plot for body"
   ]
  },
  {
   "cell_type": "code",
   "execution_count": null,
   "id": "fc31fb50-d87a-412f-aeff-455193cfec62",
   "metadata": {},
   "outputs": [],
   "source": [
    "# Scatter plot for body vs. acidity"
   ]
  },
  {
   "cell_type": "code",
   "execution_count": 32,
   "id": "5393d1c3-63e4-41b7-b629-a281c702c634",
   "metadata": {},
   "outputs": [],
   "source": [
    "sns.set_style(\"darkgrid\")"
   ]
  },
  {
   "cell_type": "markdown",
   "id": "f1aa4082-8c1d-4a5c-809e-1af0be41df0e",
   "metadata": {},
   "source": [
    "------------------------------------------------------------------------\n",
    "\n",
    "## Walkthrough 1.4: Sampling Distribution Generation"
   ]
  },
  {
   "cell_type": "code",
   "execution_count": 35,
   "id": "6c582a14-3006-47c8-b0e0-9e3fdc97c716",
   "metadata": {},
   "outputs": [
    {
     "data": {
      "image/png": "[encoded data removed]",
      "text/plain": [
       "<Figure size 1000x500 with 1 Axes>"
      ]
     },
     "metadata": {},
     "output_type": "display_data"
    }
   ],
   "source": [
    "# Think of our data as a population to draw from\n",
    "population = data_dev_survey['converted_comp_yearly'].dropna().values\n",
    "\n",
    "# Generate a large sample from the 'converted_comp_yearly' column\n",
    "# Parameters\n",
    "sample_size = 50\n",
    "num_samples = 1000\n",
    "\n",
    "# Set a seed to make code reproducible\n",
    "np.random.seed(2024)\n",
    "\n",
    "# Simulate sampling distribution of the mean\n",
    "sample_means = []\n",
    "for _ in range(num_samples):\n",
    "    # Create a sample from the population\n",
    "    sample = np.random.choice(population, sample_size)\n",
    "    # Calculate sample mean and add to list\n",
    "    sample_means.append(np.mean(sample))\n",
    "\n",
    "# Plot the sampling distribution of the sample means\n",
    "plt.hist(sample_means, bins=30);"
   ]
  },
  {
   "cell_type": "markdown",
   "id": "bdd5ebe2-2e72-425e-9222-9cdf49af46d3",
   "metadata": {},
   "source": [
    "## Exercise 1.4: Sampling Distribution Generation"
   ]
  },
  {
   "cell_type": "code",
   "execution_count": 41,
   "id": "816cb9ff-145d-4d0e-9664-91b7d3572a5e",
   "metadata": {},
   "outputs": [
    {
     "data": {
      "image/png": "[encoded data removed]",
      "text/plain": [
       "<Figure size 1000x500 with 1 Axes>"
      ]
     },
     "metadata": {},
     "output_type": "display_data"
    }
   ],
   "source": [
    "coffee_quality = pd.read_csv(\"coffee_quality.csv\")\n",
    "\n",
    "# Think of our aroma data as a population to draw from\n",
    "population = coffee_quality['aroma'].dropna().values\n",
    "\n",
    "# Parameters\n",
    "sample_size = 500\n",
    "num_samples = 1000\n",
    "\n",
    "# Set a seed to make code reproducible\n",
    "np.random.seed(2024)\n",
    "\n",
    "# Simulate sampling distribution of the mean\n",
    "sample_means = []\n",
    "for _ in range(num_samples):\n",
    "    # Create a sample from the population\n",
    "    sample = np.random.choice(population, sample_size)\n",
    "    # Calculate sample mean and add to list\n",
    "    sample_means.append(np.mean(sample))\n",
    "\n",
    "# Plot the sampling distribution of the sample means\n",
    "plt.hist(sample_means, bins=30, edgecolor='black');\n",
    "plt.title(\"Sampling Distribution of the Mean (Sample Size = 500)\");\n",
    "plt.show();"
   ]
  },
  {
   "cell_type": "markdown",
   "id": "7d603e0f-8d3e-4a9d-955e-da5d9e21d444",
   "metadata": {},
   "source": [
    "------------------------------------------------------------------------\n",
    "\n",
    "# Week 2\n",
    "\n",
    "## Walkthrough 2.1: Advanced Plots"
   ]
  },
  {
   "cell_type": "code",
   "execution_count": null,
   "id": "4ba78fce-14a6-4486-a4ec-4f98d1d9698b",
   "metadata": {},
   "outputs": [],
   "source": [
    "# Select only numeric columns\n",
    "\n",
    "# Calculate the correlation matrix for numeric columns\n",
    "\n",
    "# Heatmap for correlation matrix"
   ]
  },
  {
   "cell_type": "code",
   "execution_count": null,
   "id": "4ad490fb-34ed-4be4-967d-d5add66d4311",
   "metadata": {},
   "outputs": [],
   "source": [
    "# Pair plot for selected variables 'years_code_pro', 'work_exp', 'converted_comp_yearly'"
   ]
  },
  {
   "cell_type": "code",
   "execution_count": null,
   "id": "e4470b67-89d6-473d-a06a-d7b1b5c8553d",
   "metadata": {},
   "outputs": [],
   "source": [
    "# Time series plot\n",
    "\n",
    "\n",
    "# Count the number of surveys completed each day\n",
    "\n",
    "# Plot the counts as a line chart"
   ]
  },
  {
   "cell_type": "markdown",
   "id": "df7e7f87-e2dd-40f1-b00a-7ffa30ffed4a",
   "metadata": {},
   "source": [
    "## Exercise 2.1: Advanced Plots"
   ]
  },
  {
   "cell_type": "code",
   "execution_count": null,
   "id": "c7c85891-4c6d-45ac-9b71-83016bd3c3e5",
   "metadata": {},
   "outputs": [],
   "source": [
    "# Select only numeric columns\n",
    "\n",
    "# Drop the 'clean_cup' and 'sweetness' columns since they are always 10\n",
    "numeric_columns = numeric_columns.drop(columns=['clean_cup', 'sweetness'], errors='ignore')\n",
    "\n",
    "# Calculate the correlation matrix for numeric columns\n",
    "\n",
    "\n",
    "# Heatmap for correlation matrix"
   ]
  },
  {
   "cell_type": "code",
   "execution_count": null,
   "id": "bcfbaf0b-1c10-4ca3-82c0-bc3d7accb15c",
   "metadata": {},
   "outputs": [],
   "source": [
    "# Pair plot for selected variables ['aroma', 'acidity', 'body']"
   ]
  },
  {
   "cell_type": "code",
   "execution_count": null,
   "id": "210ca5b0-f6d4-478a-8507-8f771d13334c",
   "metadata": {},
   "outputs": [],
   "source": [
    "# Plot the mean total_cup_points for each grading_date\n",
    "\n",
    "# Convert to datetime\n",
    "\n",
    "# Extract the month and year from the grading_date column\n",
    "coffee_quality['month'] = coffee_quality['grading_date'].dt.to_period('M')\n",
    "\n",
    "# Aggregate the mean total_cup_points by month\n",
    "\n",
    "# Plot the mean total_cup_points by month as a line chart"
   ]
  },
  {
   "cell_type": "markdown",
   "id": "b3007998-1544-4a87-8a7e-2e94965fdf1d",
   "metadata": {},
   "source": [
    "------------------------------------------------------------------------\n",
    "\n",
    "## Walkthrough 2.2: EDA\n",
    "\n",
    "### Data Cleaning"
   ]
  },
  {
   "cell_type": "code",
   "execution_count": null,
   "id": "f5210118-e9ed-4d29-af7d-d4ab9d634cbf",
   "metadata": {},
   "outputs": [],
   "source": [
    "# Check for missing values\n",
    "\n",
    "\n",
    "# Remove duplicates if any"
   ]
  },
  {
   "cell_type": "markdown",
   "id": "50824701-ed49-46cb-a382-b380ea9f1869",
   "metadata": {},
   "source": [
    "### Data Visualization"
   ]
  },
  {
   "cell_type": "code",
   "execution_count": null,
   "id": "df60e3d7-b6f8-4414-9ed8-5f720da24ace",
   "metadata": {},
   "outputs": [],
   "source": [
    "# Histogram for years_code_pro\n",
    "\n",
    "\n",
    "# Box plot for work_exp\n",
    "\n",
    "\n",
    "# Scatter plot for years_code_pro vs. converted_comp_yearly"
   ]
  },
  {
   "cell_type": "markdown",
   "id": "4a7c31c7-2062-4944-9c19-645ebc8c8690",
   "metadata": {},
   "source": [
    "### Summary Statistics"
   ]
  },
  {
   "cell_type": "code",
   "execution_count": null,
   "id": "11a66724-49f6-44e5-bf35-671cfcc03f96",
   "metadata": {},
   "outputs": [],
   "source": [
    "# Calculate summary statistics"
   ]
  },
  {
   "cell_type": "markdown",
   "id": "5b9b653e-2fce-42ab-96a0-3021c5baa528",
   "metadata": {},
   "source": [
    "## Exercise 2.2: EDA\n",
    "\n",
    "### Data Cleaning"
   ]
  },
  {
   "cell_type": "code",
   "execution_count": null,
   "id": "6378168e-ea0d-4550-b49b-8eac00831cab",
   "metadata": {},
   "outputs": [],
   "source": [
    "# Check for missing values\n",
    "\n",
    "\n",
    "# Remove duplicates if any"
   ]
  },
  {
   "cell_type": "markdown",
   "id": "c2f6109a-b700-485f-93cc-607b4e24b7c5",
   "metadata": {},
   "source": [
    "### Data Visualization"
   ]
  },
  {
   "cell_type": "code",
   "execution_count": null,
   "id": "552898c7-7a19-488c-b122-898006aa5609",
   "metadata": {},
   "outputs": [],
   "source": [
    "# Histogram for aroma\n",
    "\n",
    "\n",
    "# Box plot for acidity\n",
    "\n",
    "\n",
    "# Scatter plot for aroma vs. total_cup_points"
   ]
  },
  {
   "cell_type": "markdown",
   "id": "a1027f45-2a01-4d30-b877-07c03bdfc061",
   "metadata": {},
   "source": [
    "### Summary Statistics"
   ]
  },
  {
   "cell_type": "code",
   "execution_count": null,
   "id": "ca88db8e-9060-445d-a5f2-e7244409290e",
   "metadata": {},
   "outputs": [],
   "source": [
    "# Calculate summary statistics"
   ]
  },
  {
   "cell_type": "markdown",
   "id": "4669b472-dd7e-416b-8cd9-6884faa04fe9",
   "metadata": {},
   "source": [
    "------------------------------------------------------------------------\n",
    "\n",
    "## Walkthrough 2.3: Data Preprocessing\n",
    "\n",
    "### Inspect the Data after Loading"
   ]
  },
  {
   "cell_type": "code",
   "execution_count": null,
   "id": "6c588ff1-a1a5-477e-91f3-dce9d0b8ca05",
   "metadata": {},
   "outputs": [],
   "source": [
    "# Display basic information about the dataset\n",
    "\n",
    "\n",
    "# Display the first few rows of the dataset"
   ]
  },
  {
   "cell_type": "markdown",
   "id": "63e6b63f-5df2-484b-9be0-fb2966907e7c",
   "metadata": {},
   "source": [
    "### Handle Missing Values"
   ]
  },
  {
   "cell_type": "code",
   "execution_count": null,
   "id": "4b8a2e5a-f180-4673-8ccf-315186dfc95b",
   "metadata": {},
   "outputs": [],
   "source": [
    "# Check for missing values\n",
    "\n",
    "\n",
    "# Make a copy of the dataset for imputation\n",
    "\n",
    "# Select only numeric columns\n",
    "\n",
    "# Fill missing values in numeric columns with the median\n",
    "\n",
    "\n",
    "# Display the first few rows of the imputed dataset"
   ]
  },
  {
   "cell_type": "markdown",
   "id": "0716e21e-fd6b-43f6-badb-912374e146cb",
   "metadata": {},
   "source": [
    "### Handling Outliers"
   ]
  },
  {
   "cell_type": "code",
   "execution_count": null,
   "id": "082cf602-8d56-4879-be95-22db2c8dc491",
   "metadata": {},
   "outputs": [],
   "source": [
    "# Select only numeric columns\n",
    "\n",
    "# Identify outliers using IQR\n",
    "\n",
    "\n",
    "# Remove outliers"
   ]
  },
  {
   "cell_type": "markdown",
   "id": "45e6d29d-8d0e-4b5f-8457-915ebe6e6fba",
   "metadata": {},
   "source": [
    "### Data Transformation"
   ]
  },
  {
   "cell_type": "code",
   "execution_count": null,
   "id": "e444fb9c-c9d5-4b26-a0cc-f4c67addc9e8",
   "metadata": {},
   "outputs": [],
   "source": [
    "# Normalization on converted_comp_yearly\n",
    "\n",
    "\n",
    "# Standardization on work_exp\n",
    "\n",
    "\n",
    "# Encoding categorical variables (country)"
   ]
  },
  {
   "cell_type": "markdown",
   "id": "37011044-1346-477a-9f33-9ef9872cee22",
   "metadata": {},
   "source": [
    "### Data Visualizations on Preprocessed Data"
   ]
  },
  {
   "cell_type": "code",
   "execution_count": null,
   "id": "9e63f140-b778-4142-9f48-b5a1417f0e57",
   "metadata": {},
   "outputs": [],
   "source": [
    "# Histogram for years_code_pro\n",
    "\n",
    "\n",
    "# Box plot for work_exp\n",
    "\n",
    "\n",
    "# Scatter plot for years_code_pro vs. converted_comp_yearly"
   ]
  },
  {
   "cell_type": "markdown",
   "id": "c5f98109-9103-48fc-9427-991059c5a67e",
   "metadata": {},
   "source": [
    "## Exercise 2.3: Data Preprocessing\n",
    "\n",
    "### Inspect the Data after Loading"
   ]
  },
  {
   "cell_type": "code",
   "execution_count": null,
   "id": "ec0fb290-c72a-4118-8e34-93d464cf5cbf",
   "metadata": {},
   "outputs": [],
   "source": [
    "# Display basic information about the dataset\n",
    "\n",
    "\n",
    "# Display the first few rows of the dataset"
   ]
  },
  {
   "cell_type": "markdown",
   "id": "c04e0bd3-d74b-4129-81db-a6194ff14064",
   "metadata": {},
   "source": [
    "### Handle Missing Values"
   ]
  },
  {
   "cell_type": "code",
   "execution_count": null,
   "id": "3a618f3f-83ea-4c94-9dab-6bb5feaa4b82",
   "metadata": {},
   "outputs": [],
   "source": [
    "# Check for missing values\n",
    "\n",
    "\n",
    "# Make a copy of the dataset for imputation\n",
    "\n",
    "\n",
    "# Select only numeric columns\n",
    "\n",
    "\n",
    "# Fill missing values in numeric columns with the median\n",
    "\n",
    "\n",
    "# Display the first few rows of the imputed dataset"
   ]
  },
  {
   "cell_type": "markdown",
   "id": "7118c74f-3976-47c3-820c-9e61219eda68",
   "metadata": {},
   "source": [
    "### Handle Outliers"
   ]
  },
  {
   "cell_type": "code",
   "execution_count": null,
   "id": "d9d61997-02c6-48d3-bc65-660e7885eba9",
   "metadata": {},
   "outputs": [],
   "source": [
    "# Select only numeric columns\n",
    "\n",
    "# Identify outliers using IQR\n",
    "\n",
    "\n",
    "# Remove outliers"
   ]
  },
  {
   "cell_type": "markdown",
   "id": "4f32c796-be7d-4090-ab15-7a5bdf17885e",
   "metadata": {},
   "source": [
    "### Data Transformation"
   ]
  },
  {
   "cell_type": "code",
   "execution_count": null,
   "id": "f10acd57-71d1-454e-8423-0bd122405eb2",
   "metadata": {},
   "outputs": [],
   "source": [
    "# Normalization on total_cup_points\n",
    "\n",
    "\n",
    "# Standardization on acidity\n",
    "\n",
    "\n",
    "# Encoding categorical variables (country and continent of origin)"
   ]
  },
  {
   "cell_type": "markdown",
   "id": "4fd56ee5-9091-4372-ac57-cdd6a7282207",
   "metadata": {},
   "source": [
    "### Data Visualizations on Preprocessed Data"
   ]
  },
  {
   "cell_type": "code",
   "execution_count": null,
   "id": "a37ef3f4-cf57-4853-b09c-84dd2fb54a0a",
   "metadata": {},
   "outputs": [],
   "source": [
    "# Histogram for aroma\n",
    "\n",
    "\n",
    "# Box plot for acidity\n",
    "\n",
    "\n",
    "# Scatter plot for aroma vs. total_cup_points"
   ]
  },
  {
   "cell_type": "markdown",
   "id": "e3b67ec6-77ba-4c4a-acd0-52bd385184dc",
   "metadata": {},
   "source": [
    "------------------------------------------------------------------------\n",
    "\n",
    "## Walkthrough 2.4: Correlations\n",
    "\n",
    "### Correlation Matrix"
   ]
  },
  {
   "cell_type": "code",
   "execution_count": null,
   "id": "b6f42905-60ae-4c3b-8703-c495e89a1e3d",
   "metadata": {},
   "outputs": [],
   "source": [
    "# Select only numeric columns\n",
    "\n",
    "# Calculate the correlation matrix\n",
    "\n",
    "# Display the correlation matrix"
   ]
  },
  {
   "cell_type": "markdown",
   "id": "7c868373-1c0f-4704-996b-e77e75bcdd85",
   "metadata": {},
   "source": [
    "### Visualize Correlations"
   ]
  },
  {
   "cell_type": "code",
   "execution_count": null,
   "id": "3419d1f4-4c1a-4b02-902d-cdda1cff2ecd",
   "metadata": {},
   "outputs": [],
   "source": [
    "# Heatmap for correlation matrix"
   ]
  },
  {
   "cell_type": "markdown",
   "id": "3f08ca0b-dabb-4126-b3a7-840da83e409d",
   "metadata": {},
   "source": [
    "### Create Scatter Plots for Meaningful Correlations"
   ]
  },
  {
   "cell_type": "code",
   "execution_count": null,
   "id": "e096e9e5-16b2-47e1-a68c-f7dd62eebaf8",
   "metadata": {},
   "outputs": [],
   "source": [
    "# Scatter plot for years_code_pro vs. years_code\n",
    "\n",
    "\n",
    "# Scatter plot for work_exp vs. years_code_pro"
   ]
  },
  {
   "cell_type": "markdown",
   "id": "a6165318-99e5-4044-94e7-8410e88ca49b",
   "metadata": {},
   "source": [
    "## Exercise 2.4: Correlations\n",
    "\n",
    "### Correlation Matrix"
   ]
  },
  {
   "cell_type": "code",
   "execution_count": null,
   "id": "08417d91-be6b-4414-b2f9-c38cc25b66e2",
   "metadata": {},
   "outputs": [],
   "source": [
    "# Select only numeric columns\n",
    "\n",
    "# Remove clean_cup and sweetness too\n",
    "\n",
    "# Calculate the correlation matrix\n",
    "\n",
    "# Display the correlation matrix"
   ]
  },
  {
   "cell_type": "markdown",
   "id": "1490d1b7-6bd7-4db8-98af-d6ac9a6a7ba6",
   "metadata": {},
   "source": [
    "### Visualize Correlations"
   ]
  },
  {
   "cell_type": "code",
   "execution_count": null,
   "id": "817b11bb-060b-453e-8e88-7f87996f3220",
   "metadata": {},
   "outputs": [],
   "source": [
    "# Heatmap for correlation matrix"
   ]
  },
  {
   "cell_type": "markdown",
   "id": "ee587761-a956-4c02-941e-6248150b09c4",
   "metadata": {},
   "source": [
    "### Create Scatter Plots for Meaningful Correlations"
   ]
  },
  {
   "cell_type": "code",
   "execution_count": null,
   "id": "0fb6f7fa-57a3-4f02-9a2e-6b1375c3e37b",
   "metadata": {},
   "outputs": [],
   "source": [
    "# Scatter plot for flavor vs. total_cup_points\n",
    "\n",
    "\n",
    "# Scatter plot for overall vs. total_cup_points"
   ]
  },
  {
   "cell_type": "markdown",
   "id": "b11e59e5-e38e-4749-ab30-651a56e792db",
   "metadata": {},
   "source": [
    "------------------------------------------------------------------------\n",
    "\n",
    "# Week 3\n",
    "\n",
    "## Walkthrough 3.1: Simulating Distributions\n",
    "\n",
    "### Simulating Binomial"
   ]
  },
  {
   "cell_type": "code",
   "execution_count": null,
   "id": "bdabeebe-9cdb-40c9-a2e2-146ddbb5c1cf",
   "metadata": {},
   "outputs": [],
   "source": [
    "# Simulate binomial distribution\n",
    "\n",
    "# Plot histogram"
   ]
  },
  {
   "cell_type": "markdown",
   "id": "98107a86-419f-4756-9dbe-c831faeff567",
   "metadata": {},
   "source": [
    "### Simulating Normal"
   ]
  },
  {
   "cell_type": "code",
   "execution_count": null,
   "id": "2dee628d-8333-4934-a985-a939372eec3a",
   "metadata": {},
   "outputs": [],
   "source": [
    "# Simulate normal distribution\n",
    "\n",
    "# Plot histogram"
   ]
  },
  {
   "cell_type": "markdown",
   "id": "568ac656-0a12-4e86-84b7-cc3b997bee26",
   "metadata": {},
   "source": [
    "## Exercise 3.1:\n",
    "\n",
    "### Simulating Poisson"
   ]
  },
  {
   "cell_type": "code",
   "execution_count": null,
   "id": "231f5b51-fb17-42d5-ad5a-eabad7872648",
   "metadata": {},
   "outputs": [],
   "source": [
    "# Simulate Poisson distribution with lambda (lam) parameter 3\n",
    "\n",
    "# Plot histogram"
   ]
  },
  {
   "cell_type": "markdown",
   "id": "2f16ae10-35ea-46cf-bc6e-49a309f64248",
   "metadata": {},
   "source": [
    "### Simulating Exponential"
   ]
  },
  {
   "cell_type": "code",
   "execution_count": null,
   "id": "5a448d93-2994-4588-bf95-455193bca9e6",
   "metadata": {},
   "outputs": [],
   "source": [
    "# Simulate exponential distribution with scale parameter 1\n",
    "\n",
    "# Plot histogram"
   ]
  },
  {
   "cell_type": "markdown",
   "id": "22099719-9102-4f82-a50c-d4ece5e3560e",
   "metadata": {},
   "source": [
    "------------------------------------------------------------------------\n",
    "\n",
    "## Walkthrough 3.2: t-tests"
   ]
  },
  {
   "cell_type": "code",
   "execution_count": null,
   "id": "c4c6afd6-c214-4106-85bd-542eca24a340",
   "metadata": {},
   "outputs": [],
   "source": [
    "# One-sample t-test checking for evidence that mu compensation > 85000"
   ]
  },
  {
   "cell_type": "code",
   "execution_count": null,
   "id": "7f9fcbc0-f0a7-44d5-b311-c663f7f6f5ad",
   "metadata": {},
   "outputs": [],
   "source": [
    "# Two-sample t-test comparing compensation across plans_to_use_ai groups\n",
    "# Checking for a difference"
   ]
  },
  {
   "cell_type": "markdown",
   "id": "7cc76f67-8bab-462a-ad3b-1ac7bc3bb8eb",
   "metadata": {},
   "source": [
    "## Exercise 3.2: t-tests"
   ]
  },
  {
   "cell_type": "code",
   "execution_count": null,
   "id": "64ceebfe-3d30-48ca-9d53-d1c6f2f3ade8",
   "metadata": {},
   "outputs": [],
   "source": [
    "# One-sample t-test checking for evidence that mu flavor < 7.8"
   ]
  },
  {
   "cell_type": "code",
   "execution_count": null,
   "id": "b9ded124-a15e-4522-99a5-cfc644a0781c",
   "metadata": {},
   "outputs": [],
   "source": [
    "# Two-sample t-test checking for difference in Columbia and Brazil total_cup_points"
   ]
  },
  {
   "cell_type": "markdown",
   "id": "b4efa569-5e5d-46e8-a22e-44471b3ac6ad",
   "metadata": {},
   "source": [
    "------------------------------------------------------------------------\n",
    "\n",
    "## Walkthrough 3.3: Comparative Tests"
   ]
  },
  {
   "cell_type": "code",
   "execution_count": null,
   "id": "f7f1d819-9d28-42d2-b956-3cb9f61a2daa",
   "metadata": {},
   "outputs": [],
   "source": [
    "# Perform one-way ANOVA comparing compensation across different levels of\n",
    "# remote_work"
   ]
  },
  {
   "cell_type": "code",
   "execution_count": null,
   "id": "3348f872-6f2a-4d88-9eda-eb1ca6844d3f",
   "metadata": {},
   "outputs": [],
   "source": [
    "# Create a contingency table of employment and remote_work\n",
    "\n",
    "\n",
    "# Perform chi-square test"
   ]
  },
  {
   "cell_type": "markdown",
   "id": "55efcb84-9614-4502-86b8-6c53344c6014",
   "metadata": {},
   "source": [
    "## Exercise 3.3: Comparative Tests"
   ]
  },
  {
   "cell_type": "code",
   "execution_count": null,
   "id": "59f29133-0784-4725-8592-571f7900217e",
   "metadata": {},
   "outputs": [],
   "source": [
    "# Perform one-way ANOVA comparing total_cup_points across country_of_origin"
   ]
  },
  {
   "cell_type": "code",
   "execution_count": null,
   "id": "71bd2e9d-38f0-458b-aa57-462a84718cf2",
   "metadata": {},
   "outputs": [],
   "source": [
    "# Perform a chi-square test of independence for processing_method versus\n",
    "# continent_of_origin\n",
    "\n",
    "# Create a contingency table\n",
    "\n",
    "\n",
    "# Perform chi-square test"
   ]
  },
  {
   "cell_type": "markdown",
   "id": "1968b523-b44e-4941-ad3d-d8a48a94437a",
   "metadata": {},
   "source": [
    "------------------------------------------------------------------------\n",
    "\n",
    "## Walkthrough 3.4: Non-Parametric Tests"
   ]
  },
  {
   "cell_type": "code",
   "execution_count": null,
   "id": "69615958-5cdf-4289-8d7f-272f5b3da7e8",
   "metadata": {},
   "outputs": [],
   "source": [
    "# Perform Mann-Whitney U Test comparing compensation for Remote and In-person"
   ]
  },
  {
   "cell_type": "code",
   "execution_count": null,
   "id": "177af68f-2da6-4a63-b26d-081fb3dc85b8",
   "metadata": {},
   "outputs": [],
   "source": [
    "# Perform Kruskal-Wallis H Test comparing compensation across countries"
   ]
  },
  {
   "cell_type": "markdown",
   "id": "79d13759-56b1-497b-93e1-43c966b2b780",
   "metadata": {},
   "source": [
    "## Exercise 3.4: Non-Parametric Tests"
   ]
  },
  {
   "cell_type": "code",
   "execution_count": null,
   "id": "4d70cc8a-d6c1-440f-a356-be588656d128",
   "metadata": {},
   "outputs": [],
   "source": [
    "# Perform Mann-Whitney U Test comparing total_cup_points for Guatemala\n",
    "# and Honduras"
   ]
  },
  {
   "cell_type": "code",
   "execution_count": null,
   "id": "98ae6562-9b35-4260-8620-df4f900eeae2",
   "metadata": {},
   "outputs": [],
   "source": [
    "# Perform Kruskal-Wallis H Test comparing total_cup_points across \n",
    "# continent_of_origin"
   ]
  }
 ],
 "metadata": {
  "kernelspec": {
   "display_name": "Python 3 (ipykernel)",
   "language": "python",
   "name": "python3"
  },
  "language_info": {
   "codemirror_mode": {
    "name": "ipython",
    "version": 3
   },
   "file_extension": ".py",
   "mimetype": "text/x-python",
   "name": "python",
   "nbconvert_exporter": "python",
   "pygments_lexer": "ipython3",
   "version": "3.9.6"
  }
 },
 "nbformat": 4,
 "nbformat_minor": 5
}
