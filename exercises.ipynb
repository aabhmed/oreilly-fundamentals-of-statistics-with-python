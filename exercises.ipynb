{
 "cells": [
  {
   "cell_type": "markdown",
   "id": "ae077321-d6b6-43dc-a9ff-9c5f7e85a6fa",
   "metadata": {},
   "source": [
    "# Walkthroughs and Exercises for *Fundamentals of Statistics with Python*\n",
    "\n",
    "Dr. Chester Ismay"
   ]
  },
  {
   "cell_type": "code",
   "execution_count": null,
   "id": "65c4c165-5e41-498b-974e-5c546864d4c8",
   "metadata": {},
   "outputs": [],
   "source": [
    "# Install the packages directly if needed with pip\n",
    "# Check the repo's README below for more information\n",
    "!pip install numpy pandas scipy matplotlib seaborn statsmodels scikit-learn jupyter"
   ]
  },
  {
   "cell_type": "code",
   "execution_count": null,
   "id": "93144049-d087-4120-992b-f7e0df9a04f6",
   "metadata": {},
   "outputs": [],
   "source": [
    "import pandas as pd\n",
    "\n",
    "# Display all columns\n",
    "pd.set_option('display.max_columns', None)\n",
    "\n",
    "# Display all outputs from each cell\n",
    "from IPython.core.interactiveshell import InteractiveShell\n",
    "InteractiveShell.ast_node_interactivity = \"all\""
   ]
  },
  {
   "cell_type": "markdown",
   "id": "474451ad-5413-4299-8531-9a87dba6bc08",
   "metadata": {},
   "source": [
    "# Week 1\n",
    "\n",
    "## Walkthrough 1.1: Getting Started\n",
    "\n",
    "### Setting Up the Python Environment\n",
    "\n",
    "If you haven’t already installed Python, Jupyter, and the necessary\n",
    "packages, there are instructions on the course repo in the README to do\n",
    "so\n",
    "[here](https://github.com/ismayc/oreilly-fundamentals-of-statistics-with-python/blob/main/README.md).\n",
    "\n",
    "If you aren’t able to do this on your machine, you may want to check out\n",
    "[Google Colab](https://colab.research.google.com/). It’s a free service\n",
    "that allows you to run Jupyter notebooks in the cloud. Alternatively,\n",
    "I’ve set up some temporary notebooks on Binder\n",
    "([![()](https://mybinder.org/badge_logo.svg)](https://mybinder.org/v2/gh/ismayc/oreilly-fundamentals-of-statistics-with-python/tree/main/HEAD))\n",
    "that you can work with online as well."
   ]
  },
  {
   "cell_type": "code",
   "execution_count": null,
   "id": "9259009a-23d7-407d-b1ad-efea6808a31e",
   "metadata": {},
   "outputs": [],
   "source": [
    "# Importing libraries/modules and aliasing them as needed\n",
    "import numpy as np\n",
    "import pandas as pd\n",
    "import scipy.stats as stats\n",
    "import matplotlib.pyplot as plt\n",
    "import seaborn as sns\n",
    "import statsmodels.api as sm\n",
    "from sklearn.preprocessing import MinMaxScaler, StandardScaler"
   ]
  },
  {
   "cell_type": "markdown",
   "id": "bf5136ef-c673-416c-9e95-ce1f3540ba66",
   "metadata": {},
   "source": [
    "### Exploring a dataset"
   ]
  },
  {
   "cell_type": "code",
   "execution_count": null,
   "id": "aa3fb03d-4d86-4171-844c-05a109fe4d8c",
   "metadata": {},
   "outputs": [],
   "source": [
    "# Load in the dataset"
   ]
  },
  {
   "cell_type": "code",
   "execution_count": null,
   "id": "f7275e85-ee6e-445d-8d06-f41144455086",
   "metadata": {},
   "outputs": [],
   "source": [
    "# Display information about the DataFrame"
   ]
  },
  {
   "cell_type": "markdown",
   "id": "c3cef72a-227c-4e1a-91c2-ccb6796bfdaf",
   "metadata": {},
   "source": [
    "### Performing basic statistical functions using NumPy, Pandas, and SciPy.\n",
    "\n",
    "#### Using NumPy"
   ]
  },
  {
   "cell_type": "code",
   "execution_count": null,
   "id": "d0266b10-b8be-4884-b7b2-e9e9bdbf2093",
   "metadata": {},
   "outputs": [],
   "source": [
    "# Calculate the mean of the years_code_pro column"
   ]
  },
  {
   "cell_type": "code",
   "execution_count": null,
   "id": "40ea22d3-26e8-4b6c-a39c-c9db017e76bb",
   "metadata": {},
   "outputs": [],
   "source": [
    "# Calculate the median of the work_exp column"
   ]
  },
  {
   "cell_type": "code",
   "execution_count": null,
   "id": "24156431-b8d2-47b2-b3cd-9f25861ec9c9",
   "metadata": {},
   "outputs": [],
   "source": [
    "# Calculate the standard deviation of the converted_comp_yearly column"
   ]
  },
  {
   "cell_type": "markdown",
   "id": "62755050-f03f-4087-af83-eb0b6e4d530d",
   "metadata": {},
   "source": [
    "#### Using Pandas"
   ]
  },
  {
   "cell_type": "code",
   "execution_count": null,
   "id": "952f784b-158e-415e-a9fd-fa8c42d69f94",
   "metadata": {},
   "outputs": [],
   "source": [
    "# Display summary statistics on the numeric columns of the DataFrame"
   ]
  },
  {
   "cell_type": "markdown",
   "id": "b007abcf-63c5-4f95-96ca-5468cc8981de",
   "metadata": {},
   "source": [
    "#### Using SciPy"
   ]
  },
  {
   "cell_type": "code",
   "execution_count": null,
   "id": "3adb3642-71ab-44fb-8fea-671aed5516d6",
   "metadata": {},
   "outputs": [],
   "source": [
    "# Separate the data into two groups\n",
    "\n",
    "\n",
    "\n",
    "# Perform the t-test\n",
    "\n",
    "\n",
    "# Print the results\n"
   ]
  },
  {
   "cell_type": "markdown",
   "id": "57589dea-4d4b-4809-a340-deb7603470c0",
   "metadata": {},
   "source": [
    "## Exercise 1.1: Getting Started\n",
    "\n",
    "### Setting Up the Python Environment\n",
    "\n",
    "If you ran the `# Importing libraries and aliasing them` code above, you\n",
    "should be good to proceed here. If not, scroll up and run it.\n",
    "\n",
    "### Exploring a dataset"
   ]
  },
  {
   "cell_type": "code",
   "execution_count": null,
   "id": "556a1c62-5d17-411a-8abd-822ed53e4cad",
   "metadata": {},
   "outputs": [],
   "source": [
    "# Load in the coffee_quality dataset"
   ]
  },
  {
   "cell_type": "code",
   "execution_count": null,
   "id": "6a477246-7114-40c3-809c-ceff19fc2164",
   "metadata": {},
   "outputs": [],
   "source": [
    "# Display information about the DataFrame"
   ]
  },
  {
   "cell_type": "markdown",
   "id": "73effc21-d632-49f8-bdaa-49632ab3bfdf",
   "metadata": {},
   "source": [
    "### Performing basic statistical functions using NumPy, Pandas, and SciPy.\n",
    "\n",
    "#### Using NumPy"
   ]
  },
  {
   "cell_type": "code",
   "execution_count": null,
   "id": "15e1e658-1c8f-4663-a735-3cf24e8a943d",
   "metadata": {},
   "outputs": [],
   "source": [
    "# Calculate the mean of the aroma column"
   ]
  },
  {
   "cell_type": "code",
   "execution_count": null,
   "id": "42e5c85d-143f-4d40-9603-5fbed89e39c9",
   "metadata": {},
   "outputs": [],
   "source": [
    "# Calculate the median of the total_cup_points column"
   ]
  },
  {
   "cell_type": "code",
   "execution_count": null,
   "id": "ed9acd0e-b18b-4c32-9607-2817f1a19312",
   "metadata": {},
   "outputs": [],
   "source": [
    "# Calculate the standard deviation of the moisture_percentage column"
   ]
  },
  {
   "cell_type": "markdown",
   "id": "eceb6a8c-cd83-4f4c-bf9f-de1ce6b56c13",
   "metadata": {},
   "source": [
    "#### Using Pandas"
   ]
  },
  {
   "cell_type": "code",
   "execution_count": null,
   "id": "fc45d19e-ad28-4d65-aff8-3784a3ac89a9",
   "metadata": {},
   "outputs": [],
   "source": [
    "# Display summary statistics on the numeric columns of the DataFrame"
   ]
  },
  {
   "cell_type": "markdown",
   "id": "e0f0d551-2834-473c-a40c-e6c3e765ce3f",
   "metadata": {},
   "source": [
    "#### Using SciPy"
   ]
  },
  {
   "cell_type": "code",
   "execution_count": null,
   "id": "48674104-b763-417b-a118-2e3c8cdeba20",
   "metadata": {},
   "outputs": [],
   "source": [
    "# Focus on only Asia and North America entries\n",
    "\n",
    "# Separate the data into two groups\n",
    "\n",
    "\n",
    "# Perform the t-test\n",
    "\n",
    "\n",
    "# Print the results\n"
   ]
  },
  {
   "cell_type": "markdown",
   "id": "db48245e-c706-4729-865a-8e9859b8b5ff",
   "metadata": {},
   "source": [
    "------------------------------------------------------------------------\n",
    "\n",
    "## Walkthrough 1.2: Data Summarizing\n",
    "\n",
    "### Compute and interpret measures of central tendency"
   ]
  },
  {
   "cell_type": "code",
   "execution_count": null,
   "id": "5db19420-0016-489e-9fa1-4849d85788e4",
   "metadata": {},
   "outputs": [],
   "source": [
    "# Calculate center statistics for years_code_pro\n",
    "\n",
    "\n",
    "# To extract just the value for mode"
   ]
  },
  {
   "cell_type": "markdown",
   "id": "f0212c06-c04f-4603-ac6d-e92f29a4888f",
   "metadata": {},
   "source": [
    "### Compute and interpret measures of variation"
   ]
  },
  {
   "cell_type": "code",
   "execution_count": null,
   "id": "ec6a34ed-ef36-41c1-84ba-5181d5dc1125",
   "metadata": {},
   "outputs": [],
   "source": [
    "# Calculate spread statistics for years_code_pro\n"
   ]
  },
  {
   "cell_type": "code",
   "execution_count": null,
   "id": "5eef9ffc-5f59-4ecd-8bb6-4f35a8af059d",
   "metadata": {},
   "outputs": [],
   "source": [
    "# Calculate the five-number summary for 'years_code_pro'\n",
    "\n",
    "\n",
    "# Print them out"
   ]
  },
  {
   "cell_type": "markdown",
   "id": "d8bab482-be52-4fee-912d-c30efb33c203",
   "metadata": {},
   "source": [
    "## Exercise 1.2: Data Summarizing"
   ]
  },
  {
   "cell_type": "code",
   "execution_count": null,
   "id": "134fe261-7f50-4d0f-858c-12ad1ea236b9",
   "metadata": {},
   "outputs": [],
   "source": [
    "# Calculate center statistics for 'aroma'"
   ]
  },
  {
   "cell_type": "code",
   "execution_count": null,
   "id": "5478ff50-ca15-4aea-8424-47ca69279b44",
   "metadata": {},
   "outputs": [],
   "source": [
    "# Calculate spread statistics for 'aroma'"
   ]
  },
  {
   "cell_type": "code",
   "execution_count": null,
   "id": "f0468365-5f5e-4d48-8734-a187c3adb4e0",
   "metadata": {},
   "outputs": [],
   "source": [
    "# Calculate the five-number summary for 'aroma'"
   ]
  },
  {
   "cell_type": "markdown",
   "id": "f8de255c-2ad1-4e8f-befd-254527232881",
   "metadata": {},
   "source": [
    "------------------------------------------------------------------------\n",
    "\n",
    "## Walkthrough 1.3: Cleaning and Preparing Data with Pandas"
   ]
  },
  {
   "cell_type": "code",
   "execution_count": null,
   "id": "ae5d750c-7444-422d-a9ee-f0e3c176626d",
   "metadata": {},
   "outputs": [],
   "source": [
    "# Histogram for years_code_pro"
   ]
  },
  {
   "cell_type": "code",
   "execution_count": null,
   "id": "7a984fea-1e9b-4e2a-be89-5adc5ecf592c",
   "metadata": {},
   "outputs": [],
   "source": [
    "# Set the default figure size for all plots"
   ]
  },
  {
   "cell_type": "code",
   "execution_count": null,
   "id": "6ef8095c-0919-4a34-a8d9-0602452a9fde",
   "metadata": {},
   "outputs": [],
   "source": [
    "# Box plot for work_exp"
   ]
  },
  {
   "cell_type": "code",
   "execution_count": null,
   "id": "3a2303c7-6e90-4c20-b936-51b4c16d7543",
   "metadata": {},
   "outputs": [],
   "source": [
    "# Scatter plot for years_code_pro vs. converted_comp_yearly"
   ]
  },
  {
   "cell_type": "markdown",
   "id": "06447b86-bd21-4437-9249-52d6c6abcba8",
   "metadata": {},
   "source": [
    "## Exercise 1.3: Cleaning and Preparing Data with Pandas"
   ]
  },
  {
   "cell_type": "code",
   "execution_count": null,
   "id": "db5795aa-5ac4-4230-a389-afcc4ac980c0",
   "metadata": {},
   "outputs": [],
   "source": [
    "# Histogram for acidity"
   ]
  },
  {
   "cell_type": "code",
   "execution_count": null,
   "id": "f50c36d4-a892-4a42-a4d6-7dbce17d7a77",
   "metadata": {},
   "outputs": [],
   "source": [
    "# Box plot for body"
   ]
  },
  {
   "cell_type": "code",
   "execution_count": null,
   "id": "fc31fb50-d87a-412f-aeff-455193cfec62",
   "metadata": {},
   "outputs": [],
   "source": [
    "# Scatter plot for body vs. acidity"
   ]
  },
  {
   "cell_type": "markdown",
   "id": "f1aa4082-8c1d-4a5c-809e-1af0be41df0e",
   "metadata": {},
   "source": [
    "------------------------------------------------------------------------\n",
    "\n",
    "## Walkthrough 1.4: Sampling Distribution Generation"
   ]
  },
  {
   "cell_type": "code",
   "execution_count": null,
   "id": "6c582a14-3006-47c8-b0e0-9e3fdc97c716",
   "metadata": {},
   "outputs": [],
   "source": [
    "# Think of our data as a population to draw from\n",
    "\n",
    "# Generate a large sample from the 'converted_comp_yearly' column\n",
    "# Parameters\n",
    "\n",
    "\n",
    "# Set a seed to make code reproducible\n",
    "\n",
    "\n",
    "# Simulate sampling distribution of the mean\n",
    "\n",
    "\n",
    "# Plot the sampling distribution of the sample means"
   ]
  },
  {
   "cell_type": "markdown",
   "id": "bdd5ebe2-2e72-425e-9222-9cdf49af46d3",
   "metadata": {},
   "source": [
    "## Exercise 1.4: Sampling Distribution Generation"
   ]
  },
  {
   "cell_type": "code",
   "execution_count": null,
   "id": "816cb9ff-145d-4d0e-9664-91b7d3572a5e",
   "metadata": {},
   "outputs": [],
   "source": [
    "# Think of our aroma data as a population to draw from\n",
    "\n",
    "# Parameters\n",
    "\n",
    "\n",
    "\n",
    "# Set random seed\n",
    "\n",
    "\n",
    "# Simulate sampling distribution of the mean\n",
    "\n",
    "\n",
    "\n",
    "# Plot the sampling distribution of the sample means"
   ]
  },
  {
   "cell_type": "markdown",
   "id": "7d603e0f-8d3e-4a9d-955e-da5d9e21d444",
   "metadata": {},
   "source": [
    "------------------------------------------------------------------------\n",
    "\n",
    "# Week 2\n",
    "\n",
    "## Walkthrough 2.1: Advanced Plots"
   ]
  },
  {
   "cell_type": "code",
   "execution_count": null,
   "id": "4ba78fce-14a6-4486-a4ec-4f98d1d9698b",
   "metadata": {},
   "outputs": [],
   "source": [
    "# Select only numeric columns\n",
    "\n",
    "# Calculate the correlation matrix for numeric columns\n",
    "\n",
    "# Heatmap for correlation matrix"
   ]
  },
  {
   "cell_type": "code",
   "execution_count": null,
   "id": "4ad490fb-34ed-4be4-967d-d5add66d4311",
   "metadata": {},
   "outputs": [],
   "source": [
    "# Pair plot for selected variables 'years_code_pro', 'work_exp', 'converted_comp_yearly'"
   ]
  },
  {
   "cell_type": "code",
   "execution_count": null,
   "id": "e4470b67-89d6-473d-a06a-d7b1b5c8553d",
   "metadata": {},
   "outputs": [],
   "source": [
    "# Time series plot\n",
    "\n",
    "\n",
    "# Count the number of surveys completed each day\n",
    "\n",
    "# Plot the counts as a line chart"
   ]
  },
  {
   "cell_type": "markdown",
   "id": "df7e7f87-e2dd-40f1-b00a-7ffa30ffed4a",
   "metadata": {},
   "source": [
    "## Exercise 2.1: Advanced Plots"
   ]
  },
  {
   "cell_type": "code",
   "execution_count": null,
   "id": "c7c85891-4c6d-45ac-9b71-83016bd3c3e5",
   "metadata": {},
   "outputs": [],
   "source": [
    "# Select only numeric columns\n",
    "\n",
    "# Drop the 'clean_cup' and 'sweetness' columns since they are always 10\n",
    "numeric_columns = numeric_columns.drop(columns=['clean_cup', 'sweetness'], errors='ignore')\n",
    "\n",
    "# Calculate the correlation matrix for numeric columns\n",
    "\n",
    "\n",
    "# Heatmap for correlation matrix"
   ]
  },
  {
   "cell_type": "code",
   "execution_count": null,
   "id": "bcfbaf0b-1c10-4ca3-82c0-bc3d7accb15c",
   "metadata": {},
   "outputs": [],
   "source": [
    "# Pair plot for selected variables ['aroma', 'acidity', 'body']"
   ]
  },
  {
   "cell_type": "code",
   "execution_count": null,
   "id": "210ca5b0-f6d4-478a-8507-8f771d13334c",
   "metadata": {},
   "outputs": [],
   "source": [
    "# Plot the mean total_cup_points for each grading_date\n",
    "\n",
    "# Convert to datetime\n",
    "\n",
    "# Extract the month and year from the grading_date column\n",
    "coffee_quality['month'] = coffee_quality['grading_date'].dt.to_period('M')\n",
    "\n",
    "# Aggregate the mean total_cup_points by month\n",
    "\n",
    "# Plot the mean total_cup_points by month as a line chart"
   ]
  },
  {
   "cell_type": "markdown",
   "id": "b3007998-1544-4a87-8a7e-2e94965fdf1d",
   "metadata": {},
   "source": [
    "------------------------------------------------------------------------\n",
    "\n",
    "## Walkthrough 2.2: EDA\n",
    "\n",
    "### Data Cleaning"
   ]
  },
  {
   "cell_type": "code",
   "execution_count": null,
   "id": "f5210118-e9ed-4d29-af7d-d4ab9d634cbf",
   "metadata": {},
   "outputs": [],
   "source": [
    "# Check for missing values\n",
    "\n",
    "\n",
    "# Remove duplicates if any"
   ]
  },
  {
   "cell_type": "markdown",
   "id": "50824701-ed49-46cb-a382-b380ea9f1869",
   "metadata": {},
   "source": [
    "### Data Visualization"
   ]
  },
  {
   "cell_type": "code",
   "execution_count": null,
   "id": "df60e3d7-b6f8-4414-9ed8-5f720da24ace",
   "metadata": {},
   "outputs": [],
   "source": [
    "# Histogram for years_code_pro\n",
    "\n",
    "\n",
    "# Box plot for work_exp\n",
    "\n",
    "\n",
    "# Scatter plot for years_code_pro vs. converted_comp_yearly"
   ]
  },
  {
   "cell_type": "markdown",
   "id": "4a7c31c7-2062-4944-9c19-645ebc8c8690",
   "metadata": {},
   "source": [
    "### Summary Statistics"
   ]
  },
  {
   "cell_type": "code",
   "execution_count": null,
   "id": "11a66724-49f6-44e5-bf35-671cfcc03f96",
   "metadata": {},
   "outputs": [],
   "source": [
    "# Calculate summary statistics"
   ]
  },
  {
   "cell_type": "markdown",
   "id": "5b9b653e-2fce-42ab-96a0-3021c5baa528",
   "metadata": {},
   "source": [
    "## Exercise 2.2: EDA\n",
    "\n",
    "### Data Cleaning"
   ]
  },
  {
   "cell_type": "code",
   "execution_count": null,
   "id": "6378168e-ea0d-4550-b49b-8eac00831cab",
   "metadata": {},
   "outputs": [],
   "source": [
    "# Check for missing values\n",
    "\n",
    "\n",
    "# Remove duplicates if any"
   ]
  },
  {
   "cell_type": "markdown",
   "id": "c2f6109a-b700-485f-93cc-607b4e24b7c5",
   "metadata": {},
   "source": [
    "### Data Visualization"
   ]
  },
  {
   "cell_type": "code",
   "execution_count": null,
   "id": "552898c7-7a19-488c-b122-898006aa5609",
   "metadata": {},
   "outputs": [],
   "source": [
    "# Histogram for aroma\n",
    "\n",
    "\n",
    "# Box plot for acidity\n",
    "\n",
    "\n",
    "# Scatter plot for aroma vs. total_cup_points"
   ]
  },
  {
   "cell_type": "markdown",
   "id": "a1027f45-2a01-4d30-b877-07c03bdfc061",
   "metadata": {},
   "source": [
    "### Summary Statistics"
   ]
  },
  {
   "cell_type": "code",
   "execution_count": null,
   "id": "ca88db8e-9060-445d-a5f2-e7244409290e",
   "metadata": {},
   "outputs": [],
   "source": [
    "# Calculate summary statistics"
   ]
  },
  {
   "cell_type": "markdown",
   "id": "4669b472-dd7e-416b-8cd9-6884faa04fe9",
   "metadata": {},
   "source": [
    "------------------------------------------------------------------------\n",
    "\n",
    "## Walkthrough 2.3: Data Preprocessing\n",
    "\n",
    "### Inspect the Data after Loading"
   ]
  },
  {
   "cell_type": "code",
   "execution_count": null,
   "id": "6c588ff1-a1a5-477e-91f3-dce9d0b8ca05",
   "metadata": {},
   "outputs": [],
   "source": [
    "# Display basic information about the dataset\n",
    "\n",
    "\n",
    "# Display the first few rows of the dataset"
   ]
  },
  {
   "cell_type": "markdown",
   "id": "63e6b63f-5df2-484b-9be0-fb2966907e7c",
   "metadata": {},
   "source": [
    "### Handle Missing Values"
   ]
  },
  {
   "cell_type": "code",
   "execution_count": null,
   "id": "4b8a2e5a-f180-4673-8ccf-315186dfc95b",
   "metadata": {},
   "outputs": [],
   "source": [
    "# Check for missing values\n",
    "\n",
    "\n",
    "# Make a copy of the dataset for imputation\n",
    "\n",
    "# Select only numeric columns\n",
    "\n",
    "# Fill missing values in numeric columns with the median\n",
    "\n",
    "\n",
    "# Display the first few rows of the imputed dataset"
   ]
  },
  {
   "cell_type": "markdown",
   "id": "0716e21e-fd6b-43f6-badb-912374e146cb",
   "metadata": {},
   "source": [
    "### Handling Outliers"
   ]
  },
  {
   "cell_type": "code",
   "execution_count": null,
   "id": "082cf602-8d56-4879-be95-22db2c8dc491",
   "metadata": {},
   "outputs": [],
   "source": [
    "# Select only numeric columns\n",
    "\n",
    "# Identify outliers using IQR\n",
    "\n",
    "\n",
    "# Remove outliers"
   ]
  },
  {
   "cell_type": "markdown",
   "id": "45e6d29d-8d0e-4b5f-8457-915ebe6e6fba",
   "metadata": {},
   "source": [
    "### Data Transformation"
   ]
  },
  {
   "cell_type": "code",
   "execution_count": null,
   "id": "e444fb9c-c9d5-4b26-a0cc-f4c67addc9e8",
   "metadata": {},
   "outputs": [],
   "source": [
    "# Normalization on converted_comp_yearly\n",
    "\n",
    "\n",
    "# Standardization on work_exp\n",
    "\n",
    "\n",
    "# Encoding categorical variables (country)"
   ]
  },
  {
   "cell_type": "markdown",
   "id": "37011044-1346-477a-9f33-9ef9872cee22",
   "metadata": {},
   "source": [
    "### Data Visualizations on Preprocessed Data"
   ]
  },
  {
   "cell_type": "code",
   "execution_count": null,
   "id": "9e63f140-b778-4142-9f48-b5a1417f0e57",
   "metadata": {},
   "outputs": [],
   "source": [
    "# Histogram for years_code_pro\n",
    "\n",
    "\n",
    "# Box plot for work_exp\n",
    "\n",
    "\n",
    "# Scatter plot for years_code_pro vs. converted_comp_yearly"
   ]
  },
  {
   "cell_type": "markdown",
   "id": "c5f98109-9103-48fc-9427-991059c5a67e",
   "metadata": {},
   "source": [
    "## Exercise 2.3: Data Preprocessing\n",
    "\n",
    "### Inspect the Data after Loading"
   ]
  },
  {
   "cell_type": "code",
   "execution_count": null,
   "id": "ec0fb290-c72a-4118-8e34-93d464cf5cbf",
   "metadata": {},
   "outputs": [],
   "source": [
    "# Display basic information about the dataset\n",
    "\n",
    "\n",
    "# Display the first few rows of the dataset"
   ]
  },
  {
   "cell_type": "markdown",
   "id": "c04e0bd3-d74b-4129-81db-a6194ff14064",
   "metadata": {},
   "source": [
    "### Handle Missing Values"
   ]
  },
  {
   "cell_type": "code",
   "execution_count": null,
   "id": "3a618f3f-83ea-4c94-9dab-6bb5feaa4b82",
   "metadata": {},
   "outputs": [],
   "source": [
    "# Check for missing values\n",
    "\n",
    "\n",
    "# Make a copy of the dataset for imputation\n",
    "\n",
    "\n",
    "# Select only numeric columns\n",
    "\n",
    "\n",
    "# Fill missing values in numeric columns with the median\n",
    "\n",
    "\n",
    "# Display the first few rows of the imputed dataset"
   ]
  },
  {
   "cell_type": "markdown",
   "id": "7118c74f-3976-47c3-820c-9e61219eda68",
   "metadata": {},
   "source": [
    "### Handle Outliers"
   ]
  },
  {
   "cell_type": "code",
   "execution_count": null,
   "id": "d9d61997-02c6-48d3-bc65-660e7885eba9",
   "metadata": {},
   "outputs": [],
   "source": [
    "# Select only numeric columns\n",
    "\n",
    "# Identify outliers using IQR\n",
    "\n",
    "\n",
    "# Remove outliers"
   ]
  },
  {
   "cell_type": "markdown",
   "id": "4f32c796-be7d-4090-ab15-7a5bdf17885e",
   "metadata": {},
   "source": [
    "### Data Transformation"
   ]
  },
  {
   "cell_type": "code",
   "execution_count": null,
   "id": "f10acd57-71d1-454e-8423-0bd122405eb2",
   "metadata": {},
   "outputs": [],
   "source": [
    "# Normalization on total_cup_points\n",
    "\n",
    "\n",
    "# Standardization on acidity\n",
    "\n",
    "\n",
    "# Encoding categorical variables (country and continent of origin)"
   ]
  },
  {
   "cell_type": "markdown",
   "id": "4fd56ee5-9091-4372-ac57-cdd6a7282207",
   "metadata": {},
   "source": [
    "### Data Visualizations on Preprocessed Data"
   ]
  },
  {
   "cell_type": "code",
   "execution_count": null,
   "id": "a37ef3f4-cf57-4853-b09c-84dd2fb54a0a",
   "metadata": {},
   "outputs": [],
   "source": [
    "# Histogram for aroma\n",
    "\n",
    "\n",
    "# Box plot for acidity\n",
    "\n",
    "\n",
    "# Scatter plot for aroma vs. total_cup_points"
   ]
  },
  {
   "cell_type": "markdown",
   "id": "e3b67ec6-77ba-4c4a-acd0-52bd385184dc",
   "metadata": {},
   "source": [
    "------------------------------------------------------------------------\n",
    "\n",
    "## Walkthrough 2.4: Correlations\n",
    "\n",
    "### Correlation Matrix"
   ]
  },
  {
   "cell_type": "code",
   "execution_count": null,
   "id": "b6f42905-60ae-4c3b-8703-c495e89a1e3d",
   "metadata": {},
   "outputs": [],
   "source": [
    "# Select only numeric columns\n",
    "\n",
    "# Calculate the correlation matrix\n",
    "\n",
    "# Display the correlation matrix"
   ]
  },
  {
   "cell_type": "markdown",
   "id": "7c868373-1c0f-4704-996b-e77e75bcdd85",
   "metadata": {},
   "source": [
    "### Visualize Correlations"
   ]
  },
  {
   "cell_type": "code",
   "execution_count": null,
   "id": "3419d1f4-4c1a-4b02-902d-cdda1cff2ecd",
   "metadata": {},
   "outputs": [],
   "source": [
    "# Heatmap for correlation matrix"
   ]
  },
  {
   "cell_type": "markdown",
   "id": "3f08ca0b-dabb-4126-b3a7-840da83e409d",
   "metadata": {},
   "source": [
    "### Create Scatter Plots for Meaningful Correlations"
   ]
  },
  {
   "cell_type": "code",
   "execution_count": null,
   "id": "e096e9e5-16b2-47e1-a68c-f7dd62eebaf8",
   "metadata": {},
   "outputs": [],
   "source": [
    "# Scatter plot for years_code_pro vs. years_code\n",
    "\n",
    "\n",
    "# Scatter plot for work_exp vs. years_code_pro"
   ]
  },
  {
   "cell_type": "markdown",
   "id": "a6165318-99e5-4044-94e7-8410e88ca49b",
   "metadata": {},
   "source": [
    "## Exercise 2.4: Correlations\n",
    "\n",
    "### Correlation Matrix"
   ]
  },
  {
   "cell_type": "code",
   "execution_count": null,
   "id": "08417d91-be6b-4414-b2f9-c38cc25b66e2",
   "metadata": {},
   "outputs": [],
   "source": [
    "# Select only numeric columns\n",
    "\n",
    "# Remove clean_cup and sweetness too\n",
    "\n",
    "# Calculate the correlation matrix\n",
    "\n",
    "# Display the correlation matrix"
   ]
  },
  {
   "cell_type": "markdown",
   "id": "1490d1b7-6bd7-4db8-98af-d6ac9a6a7ba6",
   "metadata": {},
   "source": [
    "### Visualize Correlations"
   ]
  },
  {
   "cell_type": "code",
   "execution_count": null,
   "id": "817b11bb-060b-453e-8e88-7f87996f3220",
   "metadata": {},
   "outputs": [],
   "source": [
    "# Heatmap for correlation matrix"
   ]
  },
  {
   "cell_type": "markdown",
   "id": "ee587761-a956-4c02-941e-6248150b09c4",
   "metadata": {},
   "source": [
    "### Create Scatter Plots for Meaningful Correlations"
   ]
  },
  {
   "cell_type": "code",
   "execution_count": null,
   "id": "0fb6f7fa-57a3-4f02-9a2e-6b1375c3e37b",
   "metadata": {},
   "outputs": [],
   "source": [
    "# Scatter plot for flavor vs. total_cup_points\n",
    "\n",
    "\n",
    "# Scatter plot for overall vs. total_cup_points"
   ]
  },
  {
   "cell_type": "markdown",
   "id": "b11e59e5-e38e-4749-ab30-651a56e792db",
   "metadata": {},
   "source": [
    "------------------------------------------------------------------------\n",
    "\n",
    "# Week 3\n",
    "\n",
    "## Walkthrough 3.1: Simulating Distributions\n",
    "\n",
    "### Simulating Binomial"
   ]
  },
  {
   "cell_type": "code",
   "execution_count": null,
   "id": "bdabeebe-9cdb-40c9-a2e2-146ddbb5c1cf",
   "metadata": {},
   "outputs": [],
   "source": [
    "# Simulate binomial distribution\n",
    "\n",
    "# Plot histogram"
   ]
  },
  {
   "cell_type": "markdown",
   "id": "98107a86-419f-4756-9dbe-c831faeff567",
   "metadata": {},
   "source": [
    "### Simulating Normal"
   ]
  },
  {
   "cell_type": "code",
   "execution_count": null,
   "id": "2dee628d-8333-4934-a985-a939372eec3a",
   "metadata": {},
   "outputs": [],
   "source": [
    "# Simulate normal distribution\n",
    "\n",
    "# Plot histogram"
   ]
  },
  {
   "cell_type": "markdown",
   "id": "568ac656-0a12-4e86-84b7-cc3b997bee26",
   "metadata": {},
   "source": [
    "## Exercise 3.1:\n",
    "\n",
    "### Simulating Poisson"
   ]
  },
  {
   "cell_type": "code",
   "execution_count": null,
   "id": "231f5b51-fb17-42d5-ad5a-eabad7872648",
   "metadata": {},
   "outputs": [],
   "source": [
    "# Simulate Poisson distribution with lambda (lam) parameter 3\n",
    "\n",
    "# Plot histogram"
   ]
  },
  {
   "cell_type": "markdown",
   "id": "2f16ae10-35ea-46cf-bc6e-49a309f64248",
   "metadata": {},
   "source": [
    "### Simulating Exponential"
   ]
  },
  {
   "cell_type": "code",
   "execution_count": null,
   "id": "5a448d93-2994-4588-bf95-455193bca9e6",
   "metadata": {},
   "outputs": [],
   "source": [
    "# Simulate exponential distribution with scale parameter 1\n",
    "\n",
    "# Plot histogram"
   ]
  },
  {
   "cell_type": "markdown",
   "id": "22099719-9102-4f82-a50c-d4ece5e3560e",
   "metadata": {},
   "source": [
    "------------------------------------------------------------------------\n",
    "\n",
    "## Walkthrough 3.2: t-tests"
   ]
  },
  {
   "cell_type": "code",
   "execution_count": null,
   "id": "c4c6afd6-c214-4106-85bd-542eca24a340",
   "metadata": {},
   "outputs": [],
   "source": [
    "# One-sample t-test checking for evidence that mu compensation > 85000"
   ]
  },
  {
   "cell_type": "code",
   "execution_count": null,
   "id": "7f9fcbc0-f0a7-44d5-b311-c663f7f6f5ad",
   "metadata": {},
   "outputs": [],
   "source": [
    "# Two-sample t-test comparing compensation across plans_to_use_ai groups\n",
    "# Checking for a difference"
   ]
  },
  {
   "cell_type": "markdown",
   "id": "7cc76f67-8bab-462a-ad3b-1ac7bc3bb8eb",
   "metadata": {},
   "source": [
    "## Exercise 3.2: t-tests"
   ]
  },
  {
   "cell_type": "code",
   "execution_count": null,
   "id": "64ceebfe-3d30-48ca-9d53-d1c6f2f3ade8",
   "metadata": {},
   "outputs": [],
   "source": [
    "# One-sample t-test checking for evidence that mu flavor < 7.8"
   ]
  },
  {
   "cell_type": "code",
   "execution_count": null,
   "id": "b9ded124-a15e-4522-99a5-cfc644a0781c",
   "metadata": {},
   "outputs": [],
   "source": [
    "# Two-sample t-test checking for difference in Columbia and Brazil total_cup_points"
   ]
  },
  {
   "cell_type": "markdown",
   "id": "b4efa569-5e5d-46e8-a22e-44471b3ac6ad",
   "metadata": {},
   "source": [
    "------------------------------------------------------------------------\n",
    "\n",
    "## Walkthrough 3.3: Comparative Tests"
   ]
  },
  {
   "cell_type": "code",
   "execution_count": null,
   "id": "f7f1d819-9d28-42d2-b956-3cb9f61a2daa",
   "metadata": {},
   "outputs": [],
   "source": [
    "# Perform one-way ANOVA comparing compensation across different levels of\n",
    "# remote_work"
   ]
  },
  {
   "cell_type": "code",
   "execution_count": null,
   "id": "3348f872-6f2a-4d88-9eda-eb1ca6844d3f",
   "metadata": {},
   "outputs": [],
   "source": [
    "# Create a contingency table of employment and remote_work\n",
    "\n",
    "\n",
    "# Perform chi-square test"
   ]
  },
  {
   "cell_type": "markdown",
   "id": "55efcb84-9614-4502-86b8-6c53344c6014",
   "metadata": {},
   "source": [
    "## Exercise 3.3: Comparative Tests"
   ]
  },
  {
   "cell_type": "code",
   "execution_count": null,
   "id": "59f29133-0784-4725-8592-571f7900217e",
   "metadata": {},
   "outputs": [],
   "source": [
    "# Perform one-way ANOVA comparing total_cup_points across country_of_origin"
   ]
  },
  {
   "cell_type": "code",
   "execution_count": null,
   "id": "71bd2e9d-38f0-458b-aa57-462a84718cf2",
   "metadata": {},
   "outputs": [],
   "source": [
    "# Perform a chi-square test of independence for processing_method versus\n",
    "# continent_of_origin\n",
    "\n",
    "# Create a contingency table\n",
    "\n",
    "\n",
    "# Perform chi-square test"
   ]
  },
  {
   "cell_type": "markdown",
   "id": "1968b523-b44e-4941-ad3d-d8a48a94437a",
   "metadata": {},
   "source": [
    "------------------------------------------------------------------------\n",
    "\n",
    "## Walkthrough 3.4: Non-Parametric Tests"
   ]
  },
  {
   "cell_type": "code",
   "execution_count": null,
   "id": "69615958-5cdf-4289-8d7f-272f5b3da7e8",
   "metadata": {},
   "outputs": [],
   "source": [
    "# Perform Mann-Whitney U Test comparing compensation for Remote and In-person"
   ]
  },
  {
   "cell_type": "code",
   "execution_count": null,
   "id": "177af68f-2da6-4a63-b26d-081fb3dc85b8",
   "metadata": {},
   "outputs": [],
   "source": [
    "# Perform Kruskal-Wallis H Test comparing compensation across countries"
   ]
  },
  {
   "cell_type": "markdown",
   "id": "79d13759-56b1-497b-93e1-43c966b2b780",
   "metadata": {},
   "source": [
    "## Exercise 3.4: Non-Parametric Tests"
   ]
  },
  {
   "cell_type": "code",
   "execution_count": null,
   "id": "4d70cc8a-d6c1-440f-a356-be588656d128",
   "metadata": {},
   "outputs": [],
   "source": [
    "# Perform Mann-Whitney U Test comparing total_cup_points for Guatemala\n",
    "# and Honduras"
   ]
  },
  {
   "cell_type": "code",
   "execution_count": null,
   "id": "98ae6562-9b35-4260-8620-df4f900eeae2",
   "metadata": {},
   "outputs": [],
   "source": [
    "# Perform Kruskal-Wallis H Test comparing total_cup_points across \n",
    "# continent_of_origin"
   ]
  }
 ],
 "metadata": {
  "kernelspec": {
   "display_name": "Python 3 (ipykernel)",
   "language": "python",
   "name": "python3"
  },
  "language_info": {
   "codemirror_mode": {
    "name": "ipython",
    "version": 3
   },
   "file_extension": ".py",
   "mimetype": "text/x-python",
   "name": "python",
   "nbconvert_exporter": "python",
   "pygments_lexer": "ipython3",
   "version": "3.9.6"
  }
 },
 "nbformat": 4,
 "nbformat_minor": 5
}
