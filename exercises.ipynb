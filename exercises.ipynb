{
 "cells": [
  {
   "cell_type": "raw",
   "metadata": {},
   "source": [
    "title: \"Walkthroughs and Exercises for *Fundamentals of Statistics with Python*\"\n",
    "author: \"Dr. Chester Ismay\""
   ]
  },
  {
   "cell_type": "code",
   "execution_count": 32,
   "metadata": {},
   "outputs": [],
   "source": [
    "import pandas as pd\n",
    "\n",
    "# Display all columns\n",
    "pd.set_option('display.max_columns', None)\n",
    "\n",
    "from IPython.core.interactiveshell import InteractiveShell\n",
    "InteractiveShell.ast_node_interactivity = \"all\""
   ]
  },
  {
   "cell_type": "markdown",
   "metadata": {},
   "source": [
    "# Week 1\n",
    "\n",
    "## Walkthrough 1.1: Getting Started\n",
    "\n",
    "### Setting Up the Python Environment\n",
    "\n",
    "If you haven't already installed Python, Jupyter, and the necessary packages, there are instructions on the course repo in the README to do so [here](https://github.com/ismayc/oreilly-fundamentals-of-statistics-with-python/blob/main/README.md). \n",
    "\n",
    "If you aren't able to do this on your machine, you may want to check out [Google Colab](https://colab.research.google.com/). It's a free service that allows you to run Jupyter notebooks in the cloud."
   ]
  },
  {
   "cell_type": "code",
   "execution_count": 2,
   "metadata": {},
   "outputs": [],
   "source": [
    "# Importing libraries/modules and aliasing them as needed\n",
    "import numpy as np\n",
    "import pandas as pd\n",
    "import scipy.stats as stats\n",
    "import matplotlib.pyplot as plt\n",
    "import seaborn as sns\n",
    "import statsmodels.api as sm\n",
    "from sklearn.preprocessing import MinMaxScaler, StandardScaler"
   ]
  },
  {
   "cell_type": "markdown",
   "metadata": {},
   "source": [
    "### Exploring a dataset"
   ]
  },
  {
   "cell_type": "code",
   "execution_count": 3,
   "metadata": {},
   "outputs": [],
   "source": [
    "# Load in the dataset\n",
    "data_dev_survey = pd.read_csv(\"data_dev_survey.csv\")"
   ]
  },
  {
   "cell_type": "code",
   "execution_count": 4,
   "metadata": {},
   "outputs": [
    {
     "name": "stdout",
     "output_type": "stream",
     "text": [
      "<class 'pandas.core.frame.DataFrame'>\n",
      "RangeIndex: 1183 entries, 0 to 1182\n",
      "Data columns (total 24 columns):\n",
      " #   Column                      Non-Null Count  Dtype  \n",
      "---  ------                      --------------  -----  \n",
      " 0   response_id                 1183 non-null   int64  \n",
      " 1   work_as_dev                 1183 non-null   object \n",
      " 2   age                         1183 non-null   object \n",
      " 3   employment                  1183 non-null   object \n",
      " 4   remote_work                 1183 non-null   object \n",
      " 5   coding_activities           1182 non-null   object \n",
      " 6   ed_level                    1183 non-null   object \n",
      " 7   dev_type                    1183 non-null   object \n",
      " 8   years_code                  1182 non-null   float64\n",
      " 9   years_code_pro              1183 non-null   int64  \n",
      " 10  org_size                    1183 non-null   object \n",
      " 11  country                     1183 non-null   object \n",
      " 12  language_have_worked_with   1183 non-null   object \n",
      " 13  language_want_to_work_with  1116 non-null   object \n",
      " 14  op_sys_professional_use     1110 non-null   object \n",
      " 15  ai_view                     1183 non-null   object \n",
      " 16  ai_trust                    1183 non-null   object \n",
      " 17  ic_or_manager               1183 non-null   object \n",
      " 18  work_exp                    1183 non-null   int64  \n",
      " 19  industry                    949 non-null    object \n",
      " 20  us_or_not                   1183 non-null   object \n",
      " 21  plans_to_use_ai             1183 non-null   object \n",
      " 22  converted_comp_yearly       1183 non-null   int64  \n",
      " 23  survey_completion_date      1183 non-null   object \n",
      "dtypes: float64(1), int64(4), object(19)\n",
      "memory usage: 221.9+ KB\n"
     ]
    }
   ],
   "source": [
    "# Display information about the DataFrame\n",
    "data_dev_survey.info()"
   ]
  },
  {
   "cell_type": "markdown",
   "metadata": {},
   "source": [
    "### Performing basic statistical functions using NumPy, Pandas, and SciPy.\n",
    "\n",
    "#### Using NumPy"
   ]
  },
  {
   "cell_type": "code",
   "execution_count": 5,
   "metadata": {},
   "outputs": [
    {
     "data": {
      "text/plain": [
       "7.961115807269653"
      ]
     },
     "execution_count": 5,
     "metadata": {},
     "output_type": "execute_result"
    }
   ],
   "source": [
    "# Calculate the mean of the years_code_pro column\n",
    "np.mean(data_dev_survey['years_code_pro'])"
   ]
  },
  {
   "cell_type": "code",
   "execution_count": 6,
   "metadata": {},
   "outputs": [
    {
     "data": {
      "text/plain": [
       "7.0"
      ]
     },
     "execution_count": 6,
     "metadata": {},
     "output_type": "execute_result"
    }
   ],
   "source": [
    "# Calculate the median of the work_exp column\n",
    "np.median(data_dev_survey['work_exp'])"
   ]
  },
  {
   "cell_type": "code",
   "execution_count": 7,
   "metadata": {},
   "outputs": [
    {
     "data": {
      "text/plain": [
       "81861.24268446874"
      ]
     },
     "execution_count": 7,
     "metadata": {},
     "output_type": "execute_result"
    }
   ],
   "source": [
    "# Calculate the standard deviation of the converted_comp_yearly column\n",
    "np.std(data_dev_survey['converted_comp_yearly'])"
   ]
  },
  {
   "cell_type": "markdown",
   "metadata": {},
   "source": [
    "#### Using Pandas"
   ]
  },
  {
   "cell_type": "code",
   "execution_count": 8,
   "metadata": {},
   "outputs": [
    {
     "data": {
      "text/html": [
       "<div>\n",
       "<style scoped>\n",
       "    .dataframe tbody tr th:only-of-type {\n",
       "        vertical-align: middle;\n",
       "    }\n",
       "\n",
       "    .dataframe tbody tr th {\n",
       "        vertical-align: top;\n",
       "    }\n",
       "\n",
       "    .dataframe thead th {\n",
       "        text-align: right;\n",
       "    }\n",
       "</style>\n",
       "<table border=\"1\" class=\"dataframe\">\n",
       "  <thead>\n",
       "    <tr style=\"text-align: right;\">\n",
       "      <th></th>\n",
       "      <th>response_id</th>\n",
       "      <th>years_code</th>\n",
       "      <th>years_code_pro</th>\n",
       "      <th>work_exp</th>\n",
       "      <th>converted_comp_yearly</th>\n",
       "    </tr>\n",
       "  </thead>\n",
       "  <tbody>\n",
       "    <tr>\n",
       "      <th>count</th>\n",
       "      <td>1183.000000</td>\n",
       "      <td>1182.000000</td>\n",
       "      <td>1183.000000</td>\n",
       "      <td>1183.000000</td>\n",
       "      <td>1.183000e+03</td>\n",
       "    </tr>\n",
       "    <tr>\n",
       "      <th>mean</th>\n",
       "      <td>43949.774303</td>\n",
       "      <td>12.534687</td>\n",
       "      <td>7.961116</td>\n",
       "      <td>9.650042</td>\n",
       "      <td>9.068442e+04</td>\n",
       "    </tr>\n",
       "    <tr>\n",
       "      <th>std</th>\n",
       "      <td>25327.979423</td>\n",
       "      <td>8.384094</td>\n",
       "      <td>7.153751</td>\n",
       "      <td>8.189750</td>\n",
       "      <td>8.189586e+04</td>\n",
       "    </tr>\n",
       "    <tr>\n",
       "      <th>min</th>\n",
       "      <td>164.000000</td>\n",
       "      <td>1.000000</td>\n",
       "      <td>0.000000</td>\n",
       "      <td>0.000000</td>\n",
       "      <td>3.000000e+00</td>\n",
       "    </tr>\n",
       "    <tr>\n",
       "      <th>25%</th>\n",
       "      <td>22733.000000</td>\n",
       "      <td>7.000000</td>\n",
       "      <td>3.000000</td>\n",
       "      <td>4.000000</td>\n",
       "      <td>4.159300e+04</td>\n",
       "    </tr>\n",
       "    <tr>\n",
       "      <th>50%</th>\n",
       "      <td>43305.000000</td>\n",
       "      <td>10.000000</td>\n",
       "      <td>6.000000</td>\n",
       "      <td>7.000000</td>\n",
       "      <td>7.271400e+04</td>\n",
       "    </tr>\n",
       "    <tr>\n",
       "      <th>75%</th>\n",
       "      <td>65791.000000</td>\n",
       "      <td>16.000000</td>\n",
       "      <td>10.000000</td>\n",
       "      <td>13.000000</td>\n",
       "      <td>1.200000e+05</td>\n",
       "    </tr>\n",
       "    <tr>\n",
       "      <th>max</th>\n",
       "      <td>89072.000000</td>\n",
       "      <td>50.000000</td>\n",
       "      <td>50.000000</td>\n",
       "      <td>48.000000</td>\n",
       "      <td>1.200000e+06</td>\n",
       "    </tr>\n",
       "  </tbody>\n",
       "</table>\n",
       "</div>"
      ],
      "text/plain": [
       "        response_id   years_code  years_code_pro     work_exp  \\\n",
       "count   1183.000000  1182.000000     1183.000000  1183.000000   \n",
       "mean   43949.774303    12.534687        7.961116     9.650042   \n",
       "std    25327.979423     8.384094        7.153751     8.189750   \n",
       "min      164.000000     1.000000        0.000000     0.000000   \n",
       "25%    22733.000000     7.000000        3.000000     4.000000   \n",
       "50%    43305.000000    10.000000        6.000000     7.000000   \n",
       "75%    65791.000000    16.000000       10.000000    13.000000   \n",
       "max    89072.000000    50.000000       50.000000    48.000000   \n",
       "\n",
       "       converted_comp_yearly  \n",
       "count           1.183000e+03  \n",
       "mean            9.068442e+04  \n",
       "std             8.189586e+04  \n",
       "min             3.000000e+00  \n",
       "25%             4.159300e+04  \n",
       "50%             7.271400e+04  \n",
       "75%             1.200000e+05  \n",
       "max             1.200000e+06  "
      ]
     },
     "execution_count": 8,
     "metadata": {},
     "output_type": "execute_result"
    }
   ],
   "source": [
    "# Display summary statistics on the numeric columns of the DataFrame\n",
    "data_dev_survey.describe()"
   ]
  },
  {
   "cell_type": "markdown",
   "metadata": {},
   "source": [
    "#### Using SciPy"
   ]
  },
  {
   "cell_type": "code",
   "execution_count": 9,
   "metadata": {},
   "outputs": [
    {
     "name": "stdout",
     "output_type": "stream",
     "text": [
      "T-statistic: 0.9293366153676751\n",
      "P-value: 0.3529304815725288\n"
     ]
    }
   ],
   "source": [
    "# Separate the data into two groups\n",
    "using_ai = data_dev_survey[data_dev_survey['plans_to_use_ai'] == 'Using']['converted_comp_yearly']\n",
    "plan_to_use_ai = data_dev_survey[data_dev_survey['plans_to_use_ai'] == 'Plan to use']['converted_comp_yearly']\n",
    "\n",
    "# Perform the t-test\n",
    "t_stat, p_value = stats.ttest_ind(using_ai, plan_to_use_ai, equal_var=False)\n",
    "\n",
    "# Print the results\n",
    "print(f\"T-statistic: {t_stat}\")\n",
    "print(f\"P-value: {p_value}\")"
   ]
  },
  {
   "cell_type": "markdown",
   "metadata": {},
   "source": [
    "## Exercise 1.1: Getting Started\n",
    "\n",
    "### Setting Up the Python Environment\n",
    "\n",
    "If you ran the `# Importing libraries and aliasing them` code above, you should \n",
    "be good to proceed here. If not, scroll up and run it.\n",
    "\n",
    "### Exploring a dataset"
   ]
  },
  {
   "cell_type": "code",
   "execution_count": 10,
   "metadata": {},
   "outputs": [],
   "source": [
    "# Load in the coffee_quality dataset\n",
    "coffee_quality = pd.read_csv(\"coffee_quality.csv\")"
   ]
  },
  {
   "cell_type": "code",
   "execution_count": 11,
   "metadata": {},
   "outputs": [
    {
     "name": "stdout",
     "output_type": "stream",
     "text": [
      "<class 'pandas.core.frame.DataFrame'>\n",
      "RangeIndex: 207 entries, 0 to 206\n",
      "Data columns (total 30 columns):\n",
      " #   Column               Non-Null Count  Dtype  \n",
      "---  ------               --------------  -----  \n",
      " 0   country_of_origin    207 non-null    object \n",
      " 1   continent_of_origin  207 non-null    object \n",
      " 2   farm_name            205 non-null    object \n",
      " 3   lot_number           206 non-null    object \n",
      " 4   mill                 204 non-null    object \n",
      " 5   company              207 non-null    object \n",
      " 6   altitude             206 non-null    object \n",
      " 7   region               205 non-null    object \n",
      " 8   producer             206 non-null    object \n",
      " 9   in_country_partner   207 non-null    object \n",
      " 10  harvest_year         207 non-null    object \n",
      " 11  grading_date         207 non-null    object \n",
      " 12  owner                207 non-null    object \n",
      " 13  variety              201 non-null    object \n",
      " 14  processing_method    202 non-null    object \n",
      " 15  aroma                207 non-null    float64\n",
      " 16  flavor               207 non-null    float64\n",
      " 17  aftertaste           207 non-null    float64\n",
      " 18  acidity              207 non-null    float64\n",
      " 19  body                 207 non-null    float64\n",
      " 20  balance              207 non-null    float64\n",
      " 21  uniformity           207 non-null    float64\n",
      " 22  clean_cup            207 non-null    int64  \n",
      " 23  sweetness            207 non-null    int64  \n",
      " 24  overall              207 non-null    float64\n",
      " 25  total_cup_points     207 non-null    float64\n",
      " 26  moisture_percentage  207 non-null    float64\n",
      " 27  color                207 non-null    object \n",
      " 28  expiration           207 non-null    object \n",
      " 29  certification_body   207 non-null    object \n",
      "dtypes: float64(10), int64(2), object(18)\n",
      "memory usage: 48.6+ KB\n"
     ]
    }
   ],
   "source": [
    "# Display information about the DataFrame\n",
    "coffee_quality.info()"
   ]
  },
  {
   "cell_type": "markdown",
   "metadata": {},
   "source": [
    "### Performing basic statistical functions using NumPy, Pandas, and SciPy.\n",
    "\n",
    "#### Using NumPy"
   ]
  },
  {
   "cell_type": "code",
   "execution_count": 12,
   "metadata": {},
   "outputs": [
    {
     "data": {
      "text/plain": [
       "7.721062801932368"
      ]
     },
     "execution_count": 12,
     "metadata": {},
     "output_type": "execute_result"
    }
   ],
   "source": [
    "# Calculate the mean of the aroma column\n",
    "np.mean(coffee_quality['aroma'])"
   ]
  },
  {
   "cell_type": "code",
   "execution_count": 13,
   "metadata": {},
   "outputs": [
    {
     "data": {
      "text/plain": [
       "83.75"
      ]
     },
     "execution_count": 13,
     "metadata": {},
     "output_type": "execute_result"
    }
   ],
   "source": [
    "# Calculate the median of the total_cup_points column\n",
    "np.median(coffee_quality['total_cup_points'])"
   ]
  },
  {
   "cell_type": "code",
   "execution_count": 14,
   "metadata": {},
   "outputs": [
    {
     "data": {
      "text/plain": [
       "1.2444515707780472"
      ]
     },
     "execution_count": 14,
     "metadata": {},
     "output_type": "execute_result"
    }
   ],
   "source": [
    "# Calculate the standard deviation of the moisture_percentage column\n",
    "np.std(coffee_quality['moisture_percentage'])"
   ]
  },
  {
   "cell_type": "markdown",
   "metadata": {},
   "source": [
    "#### Using Pandas"
   ]
  },
  {
   "cell_type": "code",
   "execution_count": 15,
   "metadata": {},
   "outputs": [
    {
     "data": {
      "text/html": [
       "<div>\n",
       "<style scoped>\n",
       "    .dataframe tbody tr th:only-of-type {\n",
       "        vertical-align: middle;\n",
       "    }\n",
       "\n",
       "    .dataframe tbody tr th {\n",
       "        vertical-align: top;\n",
       "    }\n",
       "\n",
       "    .dataframe thead th {\n",
       "        text-align: right;\n",
       "    }\n",
       "</style>\n",
       "<table border=\"1\" class=\"dataframe\">\n",
       "  <thead>\n",
       "    <tr style=\"text-align: right;\">\n",
       "      <th></th>\n",
       "      <th>aroma</th>\n",
       "      <th>flavor</th>\n",
       "      <th>aftertaste</th>\n",
       "      <th>acidity</th>\n",
       "      <th>body</th>\n",
       "      <th>balance</th>\n",
       "      <th>uniformity</th>\n",
       "      <th>clean_cup</th>\n",
       "      <th>sweetness</th>\n",
       "      <th>overall</th>\n",
       "      <th>total_cup_points</th>\n",
       "      <th>moisture_percentage</th>\n",
       "    </tr>\n",
       "  </thead>\n",
       "  <tbody>\n",
       "    <tr>\n",
       "      <th>count</th>\n",
       "      <td>207.000000</td>\n",
       "      <td>207.000000</td>\n",
       "      <td>207.000000</td>\n",
       "      <td>207.00000</td>\n",
       "      <td>207.000000</td>\n",
       "      <td>207.000000</td>\n",
       "      <td>207.000000</td>\n",
       "      <td>207.0</td>\n",
       "      <td>207.0</td>\n",
       "      <td>207.000000</td>\n",
       "      <td>207.000000</td>\n",
       "      <td>207.000000</td>\n",
       "    </tr>\n",
       "    <tr>\n",
       "      <th>mean</th>\n",
       "      <td>7.721063</td>\n",
       "      <td>7.744734</td>\n",
       "      <td>7.599758</td>\n",
       "      <td>7.69029</td>\n",
       "      <td>7.640918</td>\n",
       "      <td>7.644058</td>\n",
       "      <td>9.990338</td>\n",
       "      <td>10.0</td>\n",
       "      <td>10.0</td>\n",
       "      <td>7.676812</td>\n",
       "      <td>83.706570</td>\n",
       "      <td>10.735266</td>\n",
       "    </tr>\n",
       "    <tr>\n",
       "      <th>std</th>\n",
       "      <td>0.287626</td>\n",
       "      <td>0.279613</td>\n",
       "      <td>0.275911</td>\n",
       "      <td>0.25951</td>\n",
       "      <td>0.233499</td>\n",
       "      <td>0.256299</td>\n",
       "      <td>0.103306</td>\n",
       "      <td>0.0</td>\n",
       "      <td>0.0</td>\n",
       "      <td>0.306359</td>\n",
       "      <td>1.730417</td>\n",
       "      <td>1.247468</td>\n",
       "    </tr>\n",
       "    <tr>\n",
       "      <th>min</th>\n",
       "      <td>6.500000</td>\n",
       "      <td>6.750000</td>\n",
       "      <td>6.670000</td>\n",
       "      <td>6.83000</td>\n",
       "      <td>6.830000</td>\n",
       "      <td>6.670000</td>\n",
       "      <td>8.670000</td>\n",
       "      <td>10.0</td>\n",
       "      <td>10.0</td>\n",
       "      <td>6.670000</td>\n",
       "      <td>78.000000</td>\n",
       "      <td>0.000000</td>\n",
       "    </tr>\n",
       "    <tr>\n",
       "      <th>25%</th>\n",
       "      <td>7.580000</td>\n",
       "      <td>7.580000</td>\n",
       "      <td>7.420000</td>\n",
       "      <td>7.50000</td>\n",
       "      <td>7.500000</td>\n",
       "      <td>7.500000</td>\n",
       "      <td>10.000000</td>\n",
       "      <td>10.0</td>\n",
       "      <td>10.0</td>\n",
       "      <td>7.500000</td>\n",
       "      <td>82.580000</td>\n",
       "      <td>10.100000</td>\n",
       "    </tr>\n",
       "    <tr>\n",
       "      <th>50%</th>\n",
       "      <td>7.670000</td>\n",
       "      <td>7.750000</td>\n",
       "      <td>7.580000</td>\n",
       "      <td>7.67000</td>\n",
       "      <td>7.670000</td>\n",
       "      <td>7.670000</td>\n",
       "      <td>10.000000</td>\n",
       "      <td>10.0</td>\n",
       "      <td>10.0</td>\n",
       "      <td>7.670000</td>\n",
       "      <td>83.750000</td>\n",
       "      <td>10.800000</td>\n",
       "    </tr>\n",
       "    <tr>\n",
       "      <th>75%</th>\n",
       "      <td>7.920000</td>\n",
       "      <td>7.920000</td>\n",
       "      <td>7.750000</td>\n",
       "      <td>7.87500</td>\n",
       "      <td>7.750000</td>\n",
       "      <td>7.790000</td>\n",
       "      <td>10.000000</td>\n",
       "      <td>10.0</td>\n",
       "      <td>10.0</td>\n",
       "      <td>7.920000</td>\n",
       "      <td>84.830000</td>\n",
       "      <td>11.500000</td>\n",
       "    </tr>\n",
       "    <tr>\n",
       "      <th>max</th>\n",
       "      <td>8.580000</td>\n",
       "      <td>8.500000</td>\n",
       "      <td>8.420000</td>\n",
       "      <td>8.58000</td>\n",
       "      <td>8.250000</td>\n",
       "      <td>8.420000</td>\n",
       "      <td>10.000000</td>\n",
       "      <td>10.0</td>\n",
       "      <td>10.0</td>\n",
       "      <td>8.580000</td>\n",
       "      <td>89.330000</td>\n",
       "      <td>13.500000</td>\n",
       "    </tr>\n",
       "  </tbody>\n",
       "</table>\n",
       "</div>"
      ],
      "text/plain": [
       "            aroma      flavor  aftertaste    acidity        body     balance  \\\n",
       "count  207.000000  207.000000  207.000000  207.00000  207.000000  207.000000   \n",
       "mean     7.721063    7.744734    7.599758    7.69029    7.640918    7.644058   \n",
       "std      0.287626    0.279613    0.275911    0.25951    0.233499    0.256299   \n",
       "min      6.500000    6.750000    6.670000    6.83000    6.830000    6.670000   \n",
       "25%      7.580000    7.580000    7.420000    7.50000    7.500000    7.500000   \n",
       "50%      7.670000    7.750000    7.580000    7.67000    7.670000    7.670000   \n",
       "75%      7.920000    7.920000    7.750000    7.87500    7.750000    7.790000   \n",
       "max      8.580000    8.500000    8.420000    8.58000    8.250000    8.420000   \n",
       "\n",
       "       uniformity  clean_cup  sweetness     overall  total_cup_points  \\\n",
       "count  207.000000      207.0      207.0  207.000000        207.000000   \n",
       "mean     9.990338       10.0       10.0    7.676812         83.706570   \n",
       "std      0.103306        0.0        0.0    0.306359          1.730417   \n",
       "min      8.670000       10.0       10.0    6.670000         78.000000   \n",
       "25%     10.000000       10.0       10.0    7.500000         82.580000   \n",
       "50%     10.000000       10.0       10.0    7.670000         83.750000   \n",
       "75%     10.000000       10.0       10.0    7.920000         84.830000   \n",
       "max     10.000000       10.0       10.0    8.580000         89.330000   \n",
       "\n",
       "       moisture_percentage  \n",
       "count           207.000000  \n",
       "mean             10.735266  \n",
       "std               1.247468  \n",
       "min               0.000000  \n",
       "25%              10.100000  \n",
       "50%              10.800000  \n",
       "75%              11.500000  \n",
       "max              13.500000  "
      ]
     },
     "execution_count": 15,
     "metadata": {},
     "output_type": "execute_result"
    }
   ],
   "source": [
    "# Display summary statistics on the numeric columns of the DataFrame\n",
    "coffee_quality.describe()"
   ]
  },
  {
   "cell_type": "markdown",
   "metadata": {},
   "source": [
    "#### Using SciPy"
   ]
  },
  {
   "cell_type": "code",
   "execution_count": 16,
   "metadata": {},
   "outputs": [
    {
     "name": "stdout",
     "output_type": "stream",
     "text": [
      "T-statistic: 2.5481369690475355\n",
      "P-value: 0.011898171131418231\n"
     ]
    }
   ],
   "source": [
    "# Focus on only Asia and North America entries comparing mean total_cup_points\n",
    "\n",
    "# Separate the data into two groups\n",
    "asian = coffee_quality[coffee_quality['continent_of_origin'] == \"Asia\"]['total_cup_points']\n",
    "north_american = coffee_quality[coffee_quality['continent_of_origin'] == \"North America\"]['total_cup_points']\n",
    "\n",
    "# Perform the t-test comparing mean total_cup_points\n",
    "t_stat, p_value = stats.ttest_ind(asian, north_american, equal_var=False)\n",
    "\n",
    "# Print the results\n",
    "print(f\"T-statistic: {t_stat}\")\n",
    "print(f\"P-value: {p_value}\")"
   ]
  },
  {
   "cell_type": "markdown",
   "metadata": {},
   "source": [
    "---\n",
    "\n",
    "## Walkthrough 1.2: Data Summarizing\n",
    "\n",
    "### Compute and interpret measures of central tendency "
   ]
  },
  {
   "cell_type": "code",
   "execution_count": 21,
   "metadata": {},
   "outputs": [
    {
     "data": {
      "text/plain": [
       "2"
      ]
     },
     "execution_count": 21,
     "metadata": {},
     "output_type": "execute_result"
    }
   ],
   "source": [
    "# Calculate center statistics for years_code_pro\n",
    "data_dev_survey['years_code_pro'].mean()\n",
    "data_dev_survey['years_code_pro'].median()\n",
    "data_dev_survey['years_code_pro'].mode()\n",
    "\n",
    "# To extract just the value for mode\n",
    "data_dev_survey['years_code_pro'].mode()[0]"
   ]
  },
  {
   "cell_type": "markdown",
   "metadata": {},
   "source": [
    "### Compute and interpret measures of variation"
   ]
  },
  {
   "cell_type": "code",
   "execution_count": 23,
   "metadata": {},
   "outputs": [
    {
     "data": {
      "text/plain": [
       "50"
      ]
     },
     "execution_count": 23,
     "metadata": {},
     "output_type": "execute_result"
    }
   ],
   "source": [
    "# Calculate spread statistics for years_code_pro\n",
    "\n",
    "# Range\n",
    "data_dev_survey['years_code_pro'].max() - data_dev_survey['years_code_pro'].min()"
   ]
  },
  {
   "cell_type": "code",
   "execution_count": 24,
   "metadata": {},
   "outputs": [
    {
     "data": {
      "text/plain": [
       "51.17615171500372"
      ]
     },
     "execution_count": 24,
     "metadata": {},
     "output_type": "execute_result"
    }
   ],
   "source": [
    "# Variance\n",
    "data_dev_survey['years_code_pro'].var(ddof=1)"
   ]
  },
  {
   "cell_type": "code",
   "execution_count": 25,
   "metadata": {},
   "outputs": [
    {
     "data": {
      "text/plain": [
       "7.153750884326607"
      ]
     },
     "execution_count": 25,
     "metadata": {},
     "output_type": "execute_result"
    }
   ],
   "source": [
    "# Standard Deviation\n",
    "data_dev_survey['years_code_pro'].std(ddof=1)"
   ]
  },
  {
   "cell_type": "code",
   "execution_count": 26,
   "metadata": {},
   "outputs": [],
   "source": [
    "# Calculate the five-number summary for 'years_code_pro'\n",
    "min_years_code_pro = data_dev_survey['years_code_pro'].min()\n",
    "q1_years_code_pro = data_dev_survey['years_code_pro'].quantile(0.25)\n",
    "median_years_code_pro = data_dev_survey['years_code_pro'].quantile(0.5)\n",
    "q3_years_code_pro = data_dev_survey['years_code_pro'].quantile(0.75)\n",
    "max_years_code_pro = data_dev_survey['years_code_pro'].max()\n",
    "\n",
    "# Print them out"
   ]
  },
  {
   "cell_type": "code",
   "execution_count": 27,
   "metadata": {},
   "outputs": [
    {
     "data": {
      "text/plain": [
       "0"
      ]
     },
     "execution_count": 27,
     "metadata": {},
     "output_type": "execute_result"
    }
   ],
   "source": [
    "min_years_code_pro"
   ]
  },
  {
   "cell_type": "code",
   "execution_count": 28,
   "metadata": {},
   "outputs": [
    {
     "data": {
      "text/plain": [
       "3.0"
      ]
     },
     "execution_count": 28,
     "metadata": {},
     "output_type": "execute_result"
    }
   ],
   "source": [
    "q1_years_code_pro"
   ]
  },
  {
   "cell_type": "code",
   "execution_count": 29,
   "metadata": {},
   "outputs": [
    {
     "data": {
      "text/plain": [
       "6.0"
      ]
     },
     "execution_count": 29,
     "metadata": {},
     "output_type": "execute_result"
    }
   ],
   "source": [
    "median_years_code_pro"
   ]
  },
  {
   "cell_type": "code",
   "execution_count": 30,
   "metadata": {},
   "outputs": [
    {
     "data": {
      "text/plain": [
       "10.0"
      ]
     },
     "execution_count": 30,
     "metadata": {},
     "output_type": "execute_result"
    }
   ],
   "source": [
    "q3_years_code_pro"
   ]
  },
  {
   "cell_type": "code",
   "execution_count": 31,
   "metadata": {},
   "outputs": [
    {
     "data": {
      "text/plain": [
       "50"
      ]
     },
     "execution_count": 31,
     "metadata": {},
     "output_type": "execute_result"
    }
   ],
   "source": [
    "max_years_code_pro"
   ]
  },
  {
   "cell_type": "code",
   "execution_count": 33,
   "metadata": {},
   "outputs": [
    {
     "data": {
      "text/plain": [
       "0"
      ]
     },
     "execution_count": 33,
     "metadata": {},
     "output_type": "execute_result"
    },
    {
     "data": {
      "text/plain": [
       "3.0"
      ]
     },
     "execution_count": 33,
     "metadata": {},
     "output_type": "execute_result"
    },
    {
     "data": {
      "text/plain": [
       "6.0"
      ]
     },
     "execution_count": 33,
     "metadata": {},
     "output_type": "execute_result"
    },
    {
     "data": {
      "text/plain": [
       "10.0"
      ]
     },
     "execution_count": 33,
     "metadata": {},
     "output_type": "execute_result"
    },
    {
     "data": {
      "text/plain": [
       "50"
      ]
     },
     "execution_count": 33,
     "metadata": {},
     "output_type": "execute_result"
    }
   ],
   "source": [
    "min_years_code_pro\n",
    "q1_years_code_pro\n",
    "median_years_code_pro\n",
    "q3_years_code_pro\n",
    "max_years_code_pro"
   ]
  },
  {
   "cell_type": "code",
   "execution_count": 36,
   "metadata": {},
   "outputs": [
    {
     "data": {
      "text/plain": [
       "0    2\n",
       "1    4\n",
       "Name: bimodal_data, dtype: int64"
      ]
     },
     "execution_count": 36,
     "metadata": {},
     "output_type": "execute_result"
    }
   ],
   "source": [
    "bimodal = {'bimodal_data': [1, 2, 2, 3, 4, 4, 5]}\n",
    "bimodal_DF = pd.DataFrame(bimodal)\n",
    "\n",
    "modes = bimodal_DF['bimodal_data'].mode()\n",
    "modes"
   ]
  },
  {
   "cell_type": "markdown",
   "metadata": {},
   "source": [
    "## Exercise 1.2: Data Summarizing"
   ]
  },
  {
   "cell_type": "code",
   "execution_count": null,
   "metadata": {},
   "outputs": [],
   "source": [
    "# Calculate center statistics for 'aroma'"
   ]
  },
  {
   "cell_type": "code",
   "execution_count": null,
   "metadata": {},
   "outputs": [],
   "source": [
    "# Calculate spread statistics for 'aroma'"
   ]
  },
  {
   "cell_type": "code",
   "execution_count": null,
   "metadata": {},
   "outputs": [],
   "source": [
    "# Calculate the five-number summary for 'aroma'"
   ]
  },
  {
   "cell_type": "raw",
   "metadata": {},
   "source": [
    "---"
   ]
  },
  {
   "cell_type": "markdown",
   "metadata": {},
   "source": [
    "## Walkthrough 1.3: Cleaning and Preparing Data with Pandas"
   ]
  },
  {
   "cell_type": "code",
   "execution_count": 37,
   "metadata": {},
   "outputs": [
    {
     "data": {
      "text/plain": [
       "<Figure size 1000x500 with 0 Axes>"
      ]
     },
     "execution_count": 37,
     "metadata": {},
     "output_type": "execute_result"
    },
    {
     "data": {
      "text/plain": [
       "<Axes: xlabel='years_code_pro', ylabel='Count'>"
      ]
     },
     "execution_count": 37,
     "metadata": {},
     "output_type": "execute_result"
    },
    {
     "data": {
      "text/plain": [
       "Text(0.5, 1.0, 'Histogram of Years of Coding Experience')"
      ]
     },
     "execution_count": 37,
     "metadata": {},
     "output_type": "execute_result"
    },
    {
     "data": {
      "text/plain": [
       "Text(0.5, 0, 'Years of Coding Experience')"
      ]
     },
     "execution_count": 37,
     "metadata": {},
     "output_type": "execute_result"
    },
    {
     "data": {
      "text/plain": [
       "Text(0, 0.5, 'Frequency')"
      ]
     },
     "execution_count": 37,
     "metadata": {},
     "output_type": "execute_result"
    },
    {
     "data": {
      "image/png": "[encoded data removed]",
      "text/plain": [
       "<Figure size 1000x500 with 1 Axes>"
      ]
     },
     "metadata": {},
     "output_type": "display_data"
    }
   ],
   "source": [
    "# Histogram for years_code_pro\n",
    "plt.figure(figsize=(10, 5))\n",
    "sns.histplot(data_dev_survey['years_code_pro'])\n",
    "plt.title('Histogram of Years of Coding Experience')\n",
    "plt.xlabel('Years of Coding Experience')\n",
    "plt.ylabel('Frequency')\n",
    "plt.show()"
   ]
  },
  {
   "cell_type": "code",
   "execution_count": 39,
   "metadata": {},
   "outputs": [
    {
     "data": {
      "text/plain": [
       "<Figure size 1000x500 with 0 Axes>"
      ]
     },
     "execution_count": 39,
     "metadata": {},
     "output_type": "execute_result"
    },
    {
     "data": {
      "text/plain": [
       "<Axes: ylabel='work_exp'>"
      ]
     },
     "execution_count": 39,
     "metadata": {},
     "output_type": "execute_result"
    },
    {
     "data": {
      "text/plain": [
       "Text(0.5, 1.0, 'Box Plot of Work Experience')"
      ]
     },
     "execution_count": 39,
     "metadata": {},
     "output_type": "execute_result"
    },
    {
     "data": {
      "text/plain": [
       "Text(0, 0.5, 'Work Experience (years)')"
      ]
     },
     "execution_count": 39,
     "metadata": {},
     "output_type": "execute_result"
    },
    {
     "data": {
      "image/png": "[encoded data removed]",
      "text/plain": [
       "<Figure size 1000x500 with 1 Axes>"
      ]
     },
     "metadata": {},
     "output_type": "display_data"
    }
   ],
   "source": [
    "# Box plot for work_exp\n",
    "plt.figure(figsize=(10, 5))\n",
    "sns.boxplot(data_dev_survey['work_exp'])\n",
    "plt.title('Box Plot of Work Experience')\n",
    "plt.ylabel('Work Experience (years)')\n",
    "plt.show()"
   ]
  },
  {
   "cell_type": "code",
   "execution_count": 41,
   "metadata": {},
   "outputs": [
    {
     "data": {
      "text/plain": [
       "<Axes: xlabel='years_code_pro', ylabel='converted_comp_yearly'>"
      ]
     },
     "execution_count": 41,
     "metadata": {},
     "output_type": "execute_result"
    },
    {
     "data": {
      "text/plain": [
       "Text(0.5, 1.0, 'Scatter Plot of Years of Coding Experience vs. Yearly Compensation')"
      ]
     },
     "execution_count": 41,
     "metadata": {},
     "output_type": "execute_result"
    },
    {
     "data": {
      "text/plain": [
       "Text(0.5, 0, 'Years of Coding Experience')"
      ]
     },
     "execution_count": 41,
     "metadata": {},
     "output_type": "execute_result"
    },
    {
     "data": {
      "text/plain": [
       "Text(0, 0.5, 'Yearly Compensation (in $)')"
      ]
     },
     "execution_count": 41,
     "metadata": {},
     "output_type": "execute_result"
    },
    {
     "data": {
      "image/png": "[encoded data removed]",
      "text/plain": [
       "<Figure size 640x480 with 1 Axes>"
      ]
     },
     "metadata": {},
     "output_type": "display_data"
    }
   ],
   "source": [
    "# Scatter plot for years_code_pro vs. converted_comp_yearly\n",
    "sns.scatterplot(x=data_dev_survey['years_code_pro'], \n",
    "                y=data_dev_survey['converted_comp_yearly'])\n",
    "plt.title('Scatter Plot of Years of Coding Experience vs. Yearly Compensation')\n",
    "plt.xlabel('Years of Coding Experience')\n",
    "plt.ylabel('Yearly Compensation (in $)')\n",
    "plt.show()"
   ]
  },
  {
   "cell_type": "markdown",
   "metadata": {},
   "source": [
    "## Exercise 1.3: Cleaning and Preparing Data with Pandas"
   ]
  },
  {
   "cell_type": "code",
   "execution_count": null,
   "metadata": {},
   "outputs": [],
   "source": [
    "# Histogram for acidity"
   ]
  },
  {
   "cell_type": "code",
   "execution_count": null,
   "metadata": {},
   "outputs": [],
   "source": [
    "# Box plot for body"
   ]
  },
  {
   "cell_type": "code",
   "execution_count": null,
   "metadata": {},
   "outputs": [],
   "source": [
    "# Scatter plot for body vs. acidity"
   ]
  },
  {
   "cell_type": "markdown",
   "metadata": {},
   "source": [
    "---\n",
    "\n",
    "## Walkthrough 1.4: Sampling Distribution Generation"
   ]
  },
  {
   "cell_type": "code",
   "execution_count": 46,
   "metadata": {},
   "outputs": [
    {
     "data": {
      "image/png": "[encoded data removed]",
      "text/plain": [
       "<Figure size 1000x500 with 1 Axes>"
      ]
     },
     "metadata": {},
     "output_type": "display_data"
    }
   ],
   "source": [
    "# Think of our data as a population to draw from\n",
    "population = data_dev_survey['converted_comp_yearly'].dropna().values\n",
    "\n",
    "# Generate a large sample from the 'converted_comp_yearly' column\n",
    "# Parameters\n",
    "sample_size = 50\n",
    "num_samples = 1000\n",
    "\n",
    "# Set a seed to make code reproducible\n",
    "np.random.seed(2024)\n",
    "\n",
    "# Simulate sampling distribution of the mean\n",
    "sample_means = []\n",
    "for _ in range(num_samples):\n",
    "    sample = np.random.choice(population, sample_size)\n",
    "    sample_means.append(np.mean(sample))\n",
    "\n",
    "# Plot the sampling distribution of the sample means\n",
    "plt.figure(figsize=(10, 5));\n",
    "plt.hist(sample_means, bins=30);"
   ]
  },
  {
   "cell_type": "markdown",
   "metadata": {},
   "source": [
    "## Exercise 1.4: Sampling Distribution Generation"
   ]
  },
  {
   "cell_type": "code",
   "execution_count": null,
   "metadata": {},
   "outputs": [],
   "source": [
    "# Think of our aroma data as a population to draw from\n",
    "\n",
    "# Parameters\n",
    "\n",
    "\n",
    "\n",
    "# Set random seed\n",
    "\n",
    "\n",
    "# Simulate sampling distribution of the mean\n",
    "\n",
    "\n",
    "\n",
    "# Plot the sampling distribution of the sample means"
   ]
  },
  {
   "cell_type": "raw",
   "metadata": {},
   "source": [
    "---"
   ]
  },
  {
   "cell_type": "markdown",
   "metadata": {},
   "source": [
    "# Week 2\n",
    "\n",
    "## Walkthrough 2.1: Advanced Plots"
   ]
  },
  {
   "cell_type": "code",
   "execution_count": null,
   "metadata": {},
   "outputs": [],
   "source": [
    "# Select only numeric columns\n",
    "\n",
    "# Calculate the correlation matrix for numeric columns\n",
    "\n",
    "# Heatmap for correlation matrix"
   ]
  },
  {
   "cell_type": "code",
   "execution_count": null,
   "metadata": {},
   "outputs": [],
   "source": [
    "# Pair plot for selected variables 'years_code_pro', 'work_exp', 'converted_comp_yearly'"
   ]
  },
  {
   "cell_type": "code",
   "execution_count": null,
   "metadata": {},
   "outputs": [],
   "source": [
    "# Time series plot\n",
    "\n",
    "\n",
    "# Count the number of surveys completed each day\n",
    "\n",
    "# Plot the counts as a line chart"
   ]
  },
  {
   "cell_type": "markdown",
   "metadata": {},
   "source": [
    "## Exercise 2.1: Advanced Plots"
   ]
  },
  {
   "cell_type": "code",
   "execution_count": null,
   "metadata": {},
   "outputs": [],
   "source": [
    "# Select only numeric columns\n",
    "\n",
    "# Drop the 'clean_cup' and 'sweetness' columns since they are always 10\n",
    "numeric_columns = numeric_columns.drop(columns=['clean_cup', 'sweetness'], errors='ignore')\n",
    "\n",
    "# Calculate the correlation matrix for numeric columns\n",
    "\n",
    "\n",
    "# Heatmap for correlation matrix"
   ]
  },
  {
   "cell_type": "code",
   "execution_count": null,
   "metadata": {},
   "outputs": [],
   "source": [
    "# Pair plot for selected variables ['aroma', 'acidity', 'body']"
   ]
  },
  {
   "cell_type": "code",
   "execution_count": null,
   "metadata": {},
   "outputs": [],
   "source": [
    "# Plot the mean total_cup_points for each grading_date\n",
    "\n",
    "# Convert to datetime\n",
    "\n",
    "# Extract the month and year from the grading_date column\n",
    "coffee_quality['month'] = coffee_quality['grading_date'].dt.to_period('M')\n",
    "\n",
    "# Aggregate the mean total_cup_points by month\n",
    "\n",
    "# Plot the mean total_cup_points by month as a line chart"
   ]
  },
  {
   "cell_type": "markdown",
   "metadata": {},
   "source": [
    "---\n",
    "\n",
    "## Walkthrough 2.2: EDA\n",
    "\n",
    "### Data Cleaning"
   ]
  },
  {
   "cell_type": "code",
   "execution_count": null,
   "metadata": {},
   "outputs": [],
   "source": [
    "# Check for missing values\n",
    "\n",
    "\n",
    "# Remove duplicates if any"
   ]
  },
  {
   "cell_type": "markdown",
   "metadata": {},
   "source": [
    "### Data Visualization"
   ]
  },
  {
   "cell_type": "code",
   "execution_count": null,
   "metadata": {},
   "outputs": [],
   "source": [
    "# Histogram for years_code_pro\n",
    "\n",
    "\n",
    "# Box plot for work_exp\n",
    "\n",
    "\n",
    "# Scatter plot for years_code_pro vs. converted_comp_yearly"
   ]
  },
  {
   "cell_type": "markdown",
   "metadata": {},
   "source": [
    "### Summary Statistics"
   ]
  },
  {
   "cell_type": "code",
   "execution_count": null,
   "metadata": {},
   "outputs": [],
   "source": [
    "# Calculate summary statistics"
   ]
  },
  {
   "cell_type": "markdown",
   "metadata": {},
   "source": [
    "## Exercise 2.2: EDA\n",
    "\n",
    "### Data Cleaning"
   ]
  },
  {
   "cell_type": "code",
   "execution_count": null,
   "metadata": {},
   "outputs": [],
   "source": [
    "# Check for missing values\n",
    "\n",
    "\n",
    "# Remove duplicates if any"
   ]
  },
  {
   "cell_type": "markdown",
   "metadata": {},
   "source": [
    "### Data Visualization"
   ]
  },
  {
   "cell_type": "code",
   "execution_count": null,
   "metadata": {},
   "outputs": [],
   "source": [
    "# Histogram for aroma\n",
    "\n",
    "\n",
    "# Box plot for acidity\n",
    "\n",
    "\n",
    "# Scatter plot for aroma vs. total_cup_points"
   ]
  },
  {
   "cell_type": "markdown",
   "metadata": {},
   "source": [
    "### Summary Statistics"
   ]
  },
  {
   "cell_type": "code",
   "execution_count": null,
   "metadata": {},
   "outputs": [],
   "source": [
    "# Calculate summary statistics"
   ]
  },
  {
   "cell_type": "raw",
   "metadata": {},
   "source": [
    "---"
   ]
  },
  {
   "cell_type": "markdown",
   "metadata": {},
   "source": [
    "## Walkthrough 2.3: Data Preprocessing\n",
    "\n",
    "### Inspect the Data after Loading"
   ]
  },
  {
   "cell_type": "code",
   "execution_count": null,
   "metadata": {},
   "outputs": [],
   "source": [
    "# Display basic information about the dataset\n",
    "\n",
    "\n",
    "# Display the first few rows of the dataset"
   ]
  },
  {
   "cell_type": "markdown",
   "metadata": {},
   "source": [
    "### Handle Missing Values"
   ]
  },
  {
   "cell_type": "code",
   "execution_count": null,
   "metadata": {},
   "outputs": [],
   "source": [
    "# Check for missing values\n",
    "\n",
    "\n",
    "# Make a copy of the dataset for imputation\n",
    "\n",
    "# Select only numeric columns\n",
    "\n",
    "# Fill missing values in numeric columns with the median\n",
    "\n",
    "\n",
    "# Display the first few rows of the imputed dataset"
   ]
  },
  {
   "cell_type": "markdown",
   "metadata": {},
   "source": [
    "### Handling Outliers"
   ]
  },
  {
   "cell_type": "code",
   "execution_count": null,
   "metadata": {},
   "outputs": [],
   "source": [
    "# Select only numeric columns\n",
    "\n",
    "# Identify outliers using IQR\n",
    "\n",
    "\n",
    "# Remove outliers"
   ]
  },
  {
   "cell_type": "markdown",
   "metadata": {},
   "source": [
    "### Data Transformation"
   ]
  },
  {
   "cell_type": "code",
   "execution_count": null,
   "metadata": {},
   "outputs": [],
   "source": [
    "# Normalization on converted_comp_yearly\n",
    "\n",
    "\n",
    "# Standardization on work_exp\n",
    "\n",
    "\n",
    "# Encoding categorical variables (country)"
   ]
  },
  {
   "cell_type": "markdown",
   "metadata": {},
   "source": [
    "### Data Visualizations on Preprocessed Data"
   ]
  },
  {
   "cell_type": "code",
   "execution_count": null,
   "metadata": {},
   "outputs": [],
   "source": [
    "# Histogram for years_code_pro\n",
    "\n",
    "\n",
    "# Box plot for work_exp\n",
    "\n",
    "\n",
    "# Scatter plot for years_code_pro vs. converted_comp_yearly"
   ]
  },
  {
   "cell_type": "markdown",
   "metadata": {},
   "source": [
    "## Exercise 2.3: Data Preprocessing\n",
    "\n",
    "### Inspect the Data after Loading"
   ]
  },
  {
   "cell_type": "code",
   "execution_count": null,
   "metadata": {},
   "outputs": [],
   "source": [
    "# Display basic information about the dataset\n",
    "\n",
    "\n",
    "# Display the first few rows of the dataset"
   ]
  },
  {
   "cell_type": "markdown",
   "metadata": {},
   "source": [
    "### Handle Missing Values"
   ]
  },
  {
   "cell_type": "code",
   "execution_count": null,
   "metadata": {},
   "outputs": [],
   "source": [
    "# Check for missing values\n",
    "\n",
    "\n",
    "# Make a copy of the dataset for imputation\n",
    "\n",
    "\n",
    "# Select only numeric columns\n",
    "\n",
    "\n",
    "# Fill missing values in numeric columns with the median\n",
    "\n",
    "\n",
    "# Display the first few rows of the imputed dataset"
   ]
  },
  {
   "cell_type": "markdown",
   "metadata": {},
   "source": [
    "### Handle Outliers"
   ]
  },
  {
   "cell_type": "code",
   "execution_count": null,
   "metadata": {},
   "outputs": [],
   "source": [
    "# Select only numeric columns\n",
    "\n",
    "# Identify outliers using IQR\n",
    "\n",
    "\n",
    "# Remove outliers"
   ]
  },
  {
   "cell_type": "markdown",
   "metadata": {},
   "source": [
    "### Data Transformation"
   ]
  },
  {
   "cell_type": "code",
   "execution_count": null,
   "metadata": {},
   "outputs": [],
   "source": [
    "# Normalization on total_cup_points\n",
    "\n",
    "\n",
    "# Standardization on acidity\n",
    "\n",
    "\n",
    "# Encoding categorical variables (country and continent of origin)"
   ]
  },
  {
   "cell_type": "markdown",
   "metadata": {},
   "source": [
    "### Data Visualizations on Preprocessed Data"
   ]
  },
  {
   "cell_type": "code",
   "execution_count": null,
   "metadata": {},
   "outputs": [],
   "source": [
    "# Histogram for aroma\n",
    "\n",
    "\n",
    "# Box plot for acidity\n",
    "\n",
    "\n",
    "# Scatter plot for aroma vs. total_cup_points"
   ]
  },
  {
   "cell_type": "markdown",
   "metadata": {},
   "source": [
    "---\n",
    "\n",
    "## Walkthrough 2.4: Correlations\n",
    "\n",
    "### Correlation Matrix"
   ]
  },
  {
   "cell_type": "code",
   "execution_count": null,
   "metadata": {},
   "outputs": [],
   "source": [
    "# Select only numeric columns\n",
    "\n",
    "# Calculate the correlation matrix\n",
    "\n",
    "# Display the correlation matrix"
   ]
  },
  {
   "cell_type": "markdown",
   "metadata": {},
   "source": [
    "### Visualize Correlations"
   ]
  },
  {
   "cell_type": "code",
   "execution_count": null,
   "metadata": {},
   "outputs": [],
   "source": [
    "# Heatmap for correlation matrix"
   ]
  },
  {
   "cell_type": "markdown",
   "metadata": {},
   "source": [
    "### Create Scatter Plots for Meaningful Correlations"
   ]
  },
  {
   "cell_type": "code",
   "execution_count": null,
   "metadata": {},
   "outputs": [],
   "source": [
    "# Scatter plot for years_code_pro vs. years_code\n",
    "\n",
    "\n",
    "# Scatter plot for work_exp vs. years_code_pro"
   ]
  },
  {
   "cell_type": "markdown",
   "metadata": {},
   "source": [
    "## Exercise 2.4: Correlations\n",
    "\n",
    "### Correlation Matrix"
   ]
  },
  {
   "cell_type": "code",
   "execution_count": null,
   "metadata": {},
   "outputs": [],
   "source": [
    "# Select only numeric columns\n",
    "\n",
    "# Remove clean_cup and sweetness too\n",
    "\n",
    "# Calculate the correlation matrix\n",
    "\n",
    "# Display the correlation matrix"
   ]
  },
  {
   "cell_type": "markdown",
   "metadata": {},
   "source": [
    "### Visualize Correlations"
   ]
  },
  {
   "cell_type": "code",
   "execution_count": null,
   "metadata": {},
   "outputs": [],
   "source": [
    "# Heatmap for correlation matrix"
   ]
  },
  {
   "cell_type": "markdown",
   "metadata": {},
   "source": [
    "### Create Scatter Plots for Meaningful Correlations"
   ]
  },
  {
   "cell_type": "code",
   "execution_count": null,
   "metadata": {},
   "outputs": [],
   "source": [
    "# Scatter plot for flavor vs. total_cup_points\n",
    "\n",
    "\n",
    "# Scatter plot for overall vs. total_cup_points"
   ]
  },
  {
   "cell_type": "raw",
   "metadata": {},
   "source": [
    "---"
   ]
  },
  {
   "cell_type": "markdown",
   "metadata": {},
   "source": [
    "# Week 3\n",
    "\n",
    "## Walkthrough 3.1: Simulating Distributions\n",
    "\n",
    "### Simulating Binomial"
   ]
  },
  {
   "cell_type": "code",
   "execution_count": null,
   "metadata": {},
   "outputs": [],
   "source": [
    "# Simulate binomial distribution\n",
    "\n",
    "# Plot histogram"
   ]
  },
  {
   "cell_type": "markdown",
   "metadata": {},
   "source": [
    "### Simulating Normal"
   ]
  },
  {
   "cell_type": "code",
   "execution_count": null,
   "metadata": {},
   "outputs": [],
   "source": [
    "# Simulate normal distribution\n",
    "\n",
    "# Plot histogram"
   ]
  },
  {
   "cell_type": "markdown",
   "metadata": {},
   "source": [
    "## Exercise 3.1: \n",
    "\n",
    "### Simulating Poisson"
   ]
  },
  {
   "cell_type": "code",
   "execution_count": null,
   "metadata": {},
   "outputs": [],
   "source": [
    "# Simulate Poisson distribution with lambda (lam) parameter 3\n",
    "\n",
    "# Plot histogram"
   ]
  },
  {
   "cell_type": "markdown",
   "metadata": {},
   "source": [
    "### Simulating Exponential"
   ]
  },
  {
   "cell_type": "code",
   "execution_count": null,
   "metadata": {},
   "outputs": [],
   "source": [
    "# Simulate exponential distribution with scale parameter 1\n",
    "\n",
    "# Plot histogram"
   ]
  },
  {
   "cell_type": "markdown",
   "metadata": {},
   "source": [
    "---\n",
    "\n",
    "## Walkthrough 3.2: t-tests"
   ]
  },
  {
   "cell_type": "code",
   "execution_count": null,
   "metadata": {},
   "outputs": [],
   "source": [
    "# One-sample t-test checking for evidence that mu compensation > 85000"
   ]
  },
  {
   "cell_type": "code",
   "execution_count": null,
   "metadata": {},
   "outputs": [],
   "source": [
    "# Two-sample t-test comparing compensation across plans_to_use_ai groups\n",
    "# Checking for a difference"
   ]
  },
  {
   "cell_type": "markdown",
   "metadata": {},
   "source": [
    "## Exercise 3.2: t-tests"
   ]
  },
  {
   "cell_type": "code",
   "execution_count": null,
   "metadata": {},
   "outputs": [],
   "source": [
    "# One-sample t-test checking for evidence that mu flavor < 7.8"
   ]
  },
  {
   "cell_type": "code",
   "execution_count": null,
   "metadata": {},
   "outputs": [],
   "source": [
    "# Two-sample t-test checking for difference in Columbia and Brazil total_cup_points"
   ]
  },
  {
   "cell_type": "raw",
   "metadata": {},
   "source": [
    "---"
   ]
  },
  {
   "cell_type": "markdown",
   "metadata": {},
   "source": [
    "## Walkthrough 3.3: Comparative Tests"
   ]
  },
  {
   "cell_type": "code",
   "execution_count": null,
   "metadata": {},
   "outputs": [],
   "source": [
    "# Perform one-way ANOVA comparing compensation across different levels of\n",
    "# remote_work"
   ]
  },
  {
   "cell_type": "code",
   "execution_count": null,
   "metadata": {},
   "outputs": [],
   "source": [
    "# Create a contingency table of employment and remote_work\n",
    "\n",
    "\n",
    "# Perform chi-square test"
   ]
  },
  {
   "cell_type": "markdown",
   "metadata": {},
   "source": [
    "## Exercise 3.3: Comparative Tests"
   ]
  },
  {
   "cell_type": "code",
   "execution_count": null,
   "metadata": {},
   "outputs": [],
   "source": [
    "# Perform one-way ANOVA comparing total_cup_points across country_of_origin"
   ]
  },
  {
   "cell_type": "code",
   "execution_count": null,
   "metadata": {},
   "outputs": [],
   "source": [
    "# Perform a chi-square test of independence for processing_method versus\n",
    "# continent_of_origin\n",
    "\n",
    "# Create a contingency table\n",
    "\n",
    "\n",
    "# Perform chi-square test"
   ]
  },
  {
   "cell_type": "markdown",
   "metadata": {},
   "source": [
    "---\n",
    "\n",
    "## Walkthrough 3.4: Non-Parametric Tests"
   ]
  },
  {
   "cell_type": "code",
   "execution_count": null,
   "metadata": {},
   "outputs": [],
   "source": [
    "# Perform Mann-Whitney U Test comparing compensation for Remote and In-person"
   ]
  },
  {
   "cell_type": "code",
   "execution_count": null,
   "metadata": {},
   "outputs": [],
   "source": [
    "# Perform Kruskal-Wallis H Test comparing compensation across countries"
   ]
  },
  {
   "cell_type": "markdown",
   "metadata": {},
   "source": [
    "## Exercise 3.4: Non-Parametric Tests"
   ]
  },
  {
   "cell_type": "code",
   "execution_count": null,
   "metadata": {},
   "outputs": [],
   "source": [
    "# Perform Mann-Whitney U Test comparing total_cup_points for Guatemala\n",
    "# and Honduras"
   ]
  },
  {
   "cell_type": "code",
   "execution_count": null,
   "metadata": {},
   "outputs": [],
   "source": [
    "# Perform Kruskal-Wallis H Test comparing total_cup_points across \n",
    "# continent_of_origin"
   ]
  }
 ],
 "metadata": {
  "kernelspec": {
   "display_name": "my-python3-kernel",
   "language": "python",
   "name": "my-python3-kernel"
  },
  "language_info": {
   "codemirror_mode": {
    "name": "ipython",
    "version": 3
   },
   "file_extension": ".py",
   "mimetype": "text/x-python",
   "name": "python",
   "nbconvert_exporter": "python",
   "pygments_lexer": "ipython3",
   "version": "3.12.3"
  }
 },
 "nbformat": 4,
 "nbformat_minor": 4
}
